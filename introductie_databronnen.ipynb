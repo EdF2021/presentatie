{
 "cells": [
  {
   "cell_type": "markdown",
   "metadata": {
    "slideshow": {
     "slide_type": "slide"
    },
    "tags": []
   },
   "source": [
    "# Het internet als databron # \n",
    "\n",
    "## Introductie webscraping met Jupyter en Python ## \n",
    "[**Ed. de Feber**](mailto:e.defeber@horizoncollege.nl)  \n",
    "ROC Horizon College\n",
    "\n",
    "---"
   ]
  },
  {
   "cell_type": "markdown",
   "metadata": {
    "slideshow": {
     "slide_type": "skip"
    }
   },
   "source": [
    "Ik wil jullie in deze korte introductie WebScraping laten zien hoe je met Jupyter en Python vrij eenvoudig data kan halen uit bestaande bronnen op het internet.\n",
    "\n",
    "Ik heb de introductie als volgt ingedeeld\n",
    "\n"
   ]
  },
  {
   "cell_type": "markdown",
   "metadata": {
    "jp-MarkdownHeadingCollapsed": true,
    "slideshow": {
     "slide_type": "skip"
    },
    "tags": []
   },
   "source": [
    "### 1. Python en Jupyter? ### \n",
    "### 2. WebScraping? It's all about the data ###\n",
    "### 3. Verschillende manieren om data binnen te halen en te gebruiken ###\n",
    "- Bestaande API's gebruiken die vaak door de social networks worden geleverd (Facebook, Twitter, Linked In, ...). Valt buiten deze introductie.\n",
    "- Bestaande Tabellen gebruiken\n",
    "- Content uit nieuwspagina's, Wikipedia, enz binnen halen \n",
    "- Inlezen van openbare bronbestanden, meestal in excel, csv formaat, die aan ons ter beschikking worden gesteld door een derde partij. Keuze uit DUO, CBS, MBO-Raad, SBB, )\n",
    "- Het ontleden van een webpagina of volledige websites, om daar relevante data uit te halen (Stages, Beroepsprofielen, Vacatures, ...)."
   ]
  },
  {
   "cell_type": "markdown",
   "metadata": {
    "slideshow": {
     "slide_type": "skip"
    }
   },
   "source": [
    "## 1. Python en Jupyter ##"
   ]
  },
  {
   "cell_type": "markdown",
   "metadata": {
    "slideshow": {
     "slide_type": "skip"
    }
   },
   "source": [
    "     \n",
    "\n",
    "#### **Python**\n",
    "Een programeertaal dat over het algemeen als de standaard wordt gezien gezien in de wereld van DataScience en AI. Alle grote spelers zoals Google, Spotify, Amazon, Facebook, enz. maken gebruik van Python. Mooi om te vermelden is dat Python in de jaren 90 van de vorige eeuw is bedacht en ontwikkeld door een Nederlander **Guido van Rossem**\n",
    "( ik meen zelfs dat hij op dat moment nog student aan de UvA was ). \n",
    "\n",
    "Vorig jaar is Guido ingelijfd door Microsoft dus het moge duidelijk zijn dat ook Microsoft Python omarmd heeft. "
   ]
  },
  {
   "cell_type": "markdown",
   "metadata": {
    "slideshow": {
     "slide_type": "skip"
    }
   },
   "source": [
    "#### **Jupyter**\n",
    "Is het platform waar jullie nu tegenaan kijken. Het is een zogenaamde NOTEBOOK, en wordt zeer vaak gebruikt door Dataspecialisten om inzichten, resultaten aan opdrachtgevers te presenteren. Een Jupyter notebook kan gedeeld worden op het internet en biedt de mogelijkheid om op 1 plaats data afkomstig van meerdere verschillende bronnen te presenteren. "
   ]
  },
  {
   "cell_type": "markdown",
   "metadata": {
    "slideshow": {
     "slide_type": "skip"
    }
   },
   "source": [
    "**Deze Jupyter notebook wordt met jullie gedeeld op:**\n",
    "\n",
    "[MijnNotebooek](https://mybinder.org/v2/gh/EdF2021/presentatie/e351f478f248817bb3c240e9871062abbeaf6b1e?filepath=introductie_databronnen.ipynb)\n",
    "\n",
    "---\n",
    "\n"
   ]
  },
  {
   "cell_type": "markdown",
   "metadata": {
    "slideshow": {
     "slide_type": "skip"
    }
   },
   "source": [
    "## 2. WebScraping ##\n",
    "\n",
    "In deze introductie interpreteer ik het begrip Webscraping heel ruim als een verzameling van methoden en technieken om data uit internetbronnen te halen. Van het inlezen van een HTML Tabel die al kant en klaar op een webpagina te vinden is, via het gebruiken van openbare databronnen meestal in Excel of CSV formaat, tot aan het uit een rafelen van een complete website en/of het combineren van dit alles en hierbij data uit meerdere internetsites te combineren. Ik laat dit voor het gemak hier samenvallen onder het begrip WebScraping. \n",
    "\n",
    "En waarom niet? \n",
    "**It's all about the resulting data!**\n",
    "\n",
    "\n"
   ]
  },
  {
   "cell_type": "markdown",
   "metadata": {
    "slideshow": {
     "slide_type": "skip"
    }
   },
   "source": [
    "#### Aan de slag ### \n",
    "\n",
    "1.  **Inlezen en manipuleren van data**\n",
    "2.  **Presenteren en visualiseren van resultaten** "
   ]
  },
  {
   "cell_type": "markdown",
   "metadata": {
    "slideshow": {
     "slide_type": "skip"
    }
   },
   "source": [
    "Bijna altijd als je iets met Python wilt doen maak je gebruik van een of meer bibliotheken. Dat is tevens de grote kracht van **Python**, omdat **voor** praktische **elke situatie** wel **een bibliotheek** te vinden is. Hieronder **importeren** we een aantal bibliotheken* waaronder pandas en matplotlib. Panda is de held als het gaat om statistieken en Matrix rekenen en Matplotlib is de absolute grootheid als het gaat om Grafieken e.d.  \n"
   ]
  },
  {
   "cell_type": "code",
   "execution_count": 1,
   "metadata": {
    "slideshow": {
     "slide_type": "slide"
    }
   },
   "outputs": [],
   "source": [
    "# !pip install pandas numpy requests_html openpyxl matplotlib bqplot newspaper3k\n",
    "import pandas as pd\n",
    "import requests\n",
    "from requests_html import HTMLSession\n",
    "from ipywidgets import Image\n",
    "# import pyxll\n",
    "import openpyxl\n",
    "\n",
    "%matplotlib inline\n",
    "import ipywidgets as widgets\n",
    "import bqplot.pyplot as plt"
   ]
  },
  {
   "cell_type": "markdown",
   "metadata": {
    "slideshow": {
     "slide_type": "skip"
    }
   },
   "source": [
    "## 3. Verschillende manieren om data binnen te halen en te gebruiken ##"
   ]
  },
  {
   "cell_type": "markdown",
   "metadata": {
    "slideshow": {
     "slide_type": "slide"
    },
    "tags": []
   },
   "source": [
    "### Laten we beginnen met een artikel uit een krant te halen ###\n",
    "\n",
    "**NU.nl**\n",
    "\n",
    "Hiervoor importeer ik bibliotheek newspaper in Python. Deze bibliotheek kan voor praktisch elke nieuwssite gebruikt worden en kent semantische entiteiten als Artikel, Auteur, enz."
   ]
  },
  {
   "cell_type": "markdown",
   "metadata": {
    "slideshow": {
     "slide_type": "slide"
    }
   },
   "source": [
    "### Artikel van nu.nl met \"Newspaper bibliotheek\" ###\n"
   ]
  },
  {
   "cell_type": "code",
   "execution_count": 2,
   "metadata": {
    "slideshow": {
     "slide_type": "skip"
    },
    "tags": []
   },
   "outputs": [],
   "source": [
    "from newspaper import Article\n",
    "from requests_html import HTMLSession"
   ]
  },
  {
   "cell_type": "markdown",
   "metadata": {
    "slideshow": {
     "slide_type": "slide"
    }
   },
   "source": [
    "De eerste stap is om tegen Python vertellen welke url ik wil binnen halem. Vervolgs maakt Python daar dan een connectie mee.\n",
    "\n",
    "**Hieronder een artikel dat ik afgelopen zondag vond**"
   ]
  },
  {
   "cell_type": "markdown",
   "metadata": {
    "slideshow": {
     "slide_type": "slide"
    }
   },
   "source": [
    "![alt text](./images/nunl3.PNG \"nu.nl afgelopen zondag\")"
   ]
  },
  {
   "cell_type": "markdown",
   "metadata": {
    "slideshow": {
     "slide_type": "slide"
    }
   },
   "source": [
    "\n",
    "**Deze pagina heeft de volgende url**"
   ]
  },
  {
   "cell_type": "code",
   "execution_count": 3,
   "metadata": {
    "slideshow": {
     "slide_type": "slide"
    },
    "tags": []
   },
   "outputs": [],
   "source": [
    "url = \"https://www.nu.nl/coronavirus/6177311/voor-het-eerst-sinds-half-november-minder-dan-vierhonderd-coronapatienten-op-ic.html\""
   ]
  },
  {
   "cell_type": "markdown",
   "metadata": {},
   "source": [
    "Met de newspaper bibliotheek hebben we de beschikking over een zogenaamd **Article Object**.\n",
    "\n",
    "In drie stappen kunnen we hiermee een krantenartikel binnen halen:\n",
    "1. Eerst maken we een Article object, die we article noemen.\n",
    "2. Dan gaan we de pagina downloaden,\n",
    "3. en tenslotte parsen."
   ]
  },
  {
   "cell_type": "code",
   "execution_count": 4,
   "metadata": {},
   "outputs": [],
   "source": [
    "article = Article(url)\n",
    "article.download()\n",
    "article.parse()"
   ]
  },
  {
   "cell_type": "markdown",
   "metadata": {},
   "source": [
    "**Het article object bewaart alle resultaten.**\n",
    "\n",
    "De belangrijkste zijn **title, authors, publish_date en text**. \n",
    "Ik zal ze hieronder tonen."
   ]
  },
  {
   "cell_type": "code",
   "execution_count": 5,
   "metadata": {},
   "outputs": [
    {
     "data": {
      "text/plain": [
       "'Voor het eerst sinds november minder dan vierhonderd coronapatiënten op ic'"
      ]
     },
     "execution_count": 5,
     "metadata": {},
     "output_type": "execute_result"
    }
   ],
   "source": [
    "article.title"
   ]
  },
  {
   "cell_type": "code",
   "execution_count": 6,
   "metadata": {},
   "outputs": [
    {
     "data": {
      "text/plain": [
       "['Door']"
      ]
     },
     "execution_count": 6,
     "metadata": {},
     "output_type": "execute_result"
    }
   ],
   "source": [
    "article.authors"
   ]
  },
  {
   "cell_type": "markdown",
   "metadata": {},
   "source": [
    "Authors returns a list. In this case, it only has one item. "
   ]
  },
  {
   "cell_type": "code",
   "execution_count": 7,
   "metadata": {},
   "outputs": [],
   "source": [
    "article.publish_date"
   ]
  },
  {
   "cell_type": "markdown",
   "metadata": {},
   "source": [
    "In this case, publish_date returns the publication date and time converted into a Python datetime object. "
   ]
  },
  {
   "cell_type": "code",
   "execution_count": 8,
   "metadata": {},
   "outputs": [
    {
     "name": "stdout",
     "output_type": "stream",
     "text": [
      "Het aantal patiënten met een coronabesmetting dat verzorgd wordt op de intensive care, is gedaald tot onder de vierhonderd. Momenteel liggen er 397 coronapatiënten op de ic-afdelingen van Nederlandse ziekenhuizen, blijkt zondag uit cijfers van het Landelijk Coördinatiecentrum Patiënten Spreiding.\n",
      "\n",
      "Er zijn zondag acht ic-plekken minder bezet door coronapatiënten dan een dag eerder. Dat past in het beeld van de afgelopen weken.\n",
      "\n",
      "Het is de eerste keer sinds 16 november dat er minder dan vierhonderd coronapatiënten op de ic liggen. Sinds de piek van 642 ic-patiënten op 12 december is de bezetting scherp gedaald.\n",
      "\n",
      "Naast de 397 bezette ic-plekken liggen er zondag nog 1.073 mensen vanwege een coronabesmetting op de verpleegafdelingen van ziekenhuizen. Ook dat is opnieuw een daling ten opzichte van de dag ervoor.\n",
      "\n",
      "Op de ic's werden dertien nieuwe coronapatiënten opgenomen, waar dat er zaterdag zestien waren. Op de verpleegafdelingen werden 107 nieuwe patiënten met COVID-19 opgenomen, tegenover 149 zaterdag. Doordat meer mensen de afdelingen verlieten dan er binnenkwamen, daalde de bezetting.\n",
      "\n",
      "Aantal coronapatiënten in het ziekenhuis (ic en non-ic)\n",
      "\n",
      "Stijging aantal besmettingen nog niet te zien in ziekenhuiscijfers\n",
      "\n",
      "Het aantal positieve tests neemt sinds vorige week flink toe. Of dat zorgt voor een nieuwe golf ziekenhuisopnames is nog afwachten. Het duurt meestal ongeveer twee weken voor een toename van het aantal besmettingen terug te zien is in de ziekenhuiscijfers.\n",
      "\n",
      "De omikronvariant van het virus, die nu de meeste besmettingen in Nederland veroorzaakt, lijkt volgens sommige studies minder ziekmakend.\n"
     ]
    }
   ],
   "source": [
    "print(article.text)"
   ]
  },
  {
   "cell_type": "markdown",
   "metadata": {},
   "source": [
    "## Zoals jullie zien hebben we de volledige tekst van het artikel teruggekregen.\n",
    "\n",
    "**Maar wat kan je daar nou mee?**\n",
    "\n",
    "Simpel voorbeeld woorden tellen.\n"
   ]
  },
  {
   "cell_type": "code",
   "execution_count": 9,
   "metadata": {},
   "outputs": [
    {
     "data": {
      "text/html": [
       "<div>\n",
       "<style scoped>\n",
       "    .dataframe tbody tr th:only-of-type {\n",
       "        vertical-align: middle;\n",
       "    }\n",
       "\n",
       "    .dataframe tbody tr th {\n",
       "        vertical-align: top;\n",
       "    }\n",
       "\n",
       "    .dataframe thead th {\n",
       "        text-align: right;\n",
       "    }\n",
       "</style>\n",
       "<table border=\"1\" class=\"dataframe\">\n",
       "  <thead>\n",
       "    <tr style=\"text-align: right;\">\n",
       "      <th></th>\n",
       "      <th>WOORD</th>\n",
       "      <th>FREQUENTIE</th>\n",
       "    </tr>\n",
       "  </thead>\n",
       "  <tbody>\n",
       "    <tr>\n",
       "      <th>43</th>\n",
       "      <td>ic</td>\n",
       "      <td>9</td>\n",
       "    </tr>\n",
       "    <tr>\n",
       "      <th>79</th>\n",
       "      <td>patiënten</td>\n",
       "      <td>8</td>\n",
       "    </tr>\n",
       "    <tr>\n",
       "      <th>25</th>\n",
       "      <td>coronapatiënten</td>\n",
       "      <td>5</td>\n",
       "    </tr>\n",
       "    <tr>\n",
       "      <th>11</th>\n",
       "      <td>afdelingen</td>\n",
       "      <td>4</td>\n",
       "    </tr>\n",
       "    <tr>\n",
       "      <th>117</th>\n",
       "      <td>ziekenhuis</td>\n",
       "      <td>4</td>\n",
       "    </tr>\n",
       "    <tr>\n",
       "      <th>16</th>\n",
       "      <td>bezet</td>\n",
       "      <td>4</td>\n",
       "    </tr>\n",
       "    <tr>\n",
       "      <th>9</th>\n",
       "      <td>aantal</td>\n",
       "      <td>4</td>\n",
       "    </tr>\n",
       "    <tr>\n",
       "      <th>58</th>\n",
       "      <td>minder</td>\n",
       "      <td>3</td>\n",
       "    </tr>\n",
       "    <tr>\n",
       "      <th>23</th>\n",
       "      <td>cijfers</td>\n",
       "      <td>3</td>\n",
       "    </tr>\n",
       "    <tr>\n",
       "      <th>65</th>\n",
       "      <td>nieuwe</td>\n",
       "      <td>3</td>\n",
       "    </tr>\n",
       "    <tr>\n",
       "      <th>51</th>\n",
       "      <td>liggen</td>\n",
       "      <td>3</td>\n",
       "    </tr>\n",
       "    <tr>\n",
       "      <th>15</th>\n",
       "      <td>besmettingen</td>\n",
       "      <td>3</td>\n",
       "    </tr>\n",
       "    <tr>\n",
       "      <th>71</th>\n",
       "      <td>onder</td>\n",
       "      <td>3</td>\n",
       "    </tr>\n",
       "    <tr>\n",
       "      <th>126</th>\n",
       "      <td>zondag</td>\n",
       "      <td>3</td>\n",
       "    </tr>\n",
       "    <tr>\n",
       "      <th>110</th>\n",
       "      <td>weken</td>\n",
       "      <td>2</td>\n",
       "    </tr>\n",
       "    <tr>\n",
       "      <th>40</th>\n",
       "      <td>gedaald</td>\n",
       "      <td>2</td>\n",
       "    </tr>\n",
       "    <tr>\n",
       "      <th>32</th>\n",
       "      <td>die</td>\n",
       "      <td>2</td>\n",
       "    </tr>\n",
       "    <tr>\n",
       "      <th>100</th>\n",
       "      <td>verpleegafdelingen</td>\n",
       "      <td>2</td>\n",
       "    </tr>\n",
       "    <tr>\n",
       "      <th>102</th>\n",
       "      <td>vierhonderd</td>\n",
       "      <td>2</td>\n",
       "    </tr>\n",
       "    <tr>\n",
       "      <th>53</th>\n",
       "      <td>lijkt</td>\n",
       "      <td>2</td>\n",
       "    </tr>\n",
       "  </tbody>\n",
       "</table>\n",
       "</div>"
      ],
      "text/plain": [
       "                  WOORD  FREQUENTIE\n",
       "43                   ic           9\n",
       "79            patiënten           8\n",
       "25      coronapatiënten           5\n",
       "11           afdelingen           4\n",
       "117          ziekenhuis           4\n",
       "16                bezet           4\n",
       "9                aantal           4\n",
       "58               minder           3\n",
       "23              cijfers           3\n",
       "65               nieuwe           3\n",
       "51               liggen           3\n",
       "15         besmettingen           3\n",
       "71                onder           3\n",
       "126              zondag           3\n",
       "110               weken           2\n",
       "40              gedaald           2\n",
       "32                  die           2\n",
       "100  verpleegafdelingen           2\n",
       "102         vierhonderd           2\n",
       "53                lijkt           2"
      ]
     },
     "execution_count": 9,
     "metadata": {},
     "output_type": "execute_result"
    }
   ],
   "source": [
    "inhoud = article.text\n",
    "\n",
    "woordenlijst = []\n",
    "\n",
    "for woord in inhoud.split():\n",
    "    if woord.lower() not in \"nog de dan het in een en er te ten op van het voor is met dat dag\":\n",
    "        woordenlijst.append((woord.lower(),inhoud.count(woord)))\n",
    "    \n",
    "woordenlijst = sorted(list(set(woordenlijst)))\n",
    "    \n",
    "woordenlijst = pd.DataFrame(woordenlijst,columns=[\"WOORD\",\"FREQUENTIE\"])\n",
    "woordenlijst = woordenlijst.sort_values(by=\"FREQUENTIE\", ascending=False)\n",
    "\n",
    "woordenlijst = woordenlijst[[\"WOORD\", \"FREQUENTIE\"]][:20]\n",
    "woordenlijst"
   ]
  },
  {
   "cell_type": "markdown",
   "metadata": {},
   "source": [
    "## Meerdere pagina's uit onze nieuwssite binnenhalen\n",
    "Als je **meerdere pagina's** wilt opslaan dan is het makkelijker om dit proces te automatiseren. Daarom maak ik hieronder een functie die als input een URL nodig heeft en vervolgens de meta-data en html code teruggeeft. "
   ]
  },
  {
   "cell_type": "code",
   "execution_count": 12,
   "metadata": {},
   "outputs": [],
   "source": [
    "def get_article_info(url):\n",
    "    \"\"\"Download and parse a newspaper url.\"\"\"\n",
    "    article = Article(url)\n",
    "    article.download()\n",
    "    article.parse()\n",
    "\n",
    "    article_details = {\n",
    "        \"title\": article.title,\n",
    "        \"text\": article.text,\n",
    "        \"webUrl\": article.url,\n",
    "        \"authors\": article.authors,\n",
    "        \"html\": article.html,\n",
    "        \"date\": article.publish_date,\n",
    "        \"description\": article.meta_description,\n",
    "    }\n",
    "    return article_details"
   ]
  },
  {
   "cell_type": "markdown",
   "metadata": {},
   "source": [
    "**Even checken of de bovenstaande functies werken. Vul bij url je eigen nieuwspagina toe.**\n"
   ]
  },
  {
   "cell_type": "code",
   "execution_count": 15,
   "metadata": {},
   "outputs": [
    {
     "name": "stdout",
     "output_type": "stream",
     "text": [
      "Onderzoekers: 2G en 3G hebben nu nauwelijks effect\n",
      "['Hatixhe Raba', 'Redacteur Binnenland']\n",
      "None\n",
      "Dat het coronatoegangsbewijs minder effectief is geworden, komt vooral doordat de effectiviteit van vaccins is afgenomen. Ook het boostervaccin biedt geen optimale bescherming tegen besmetting. \"Stel dat we nu een kneitergoed omikronvaccin krijgen, dan verandert de situatie mogelijk\", denkt Mouter.\n",
      "\n",
      "Het 1G-beleid, waarbij iedereen is getest, zou een stuk effectiever zijn: dat zou het reproductiegetal met 45 procent kunnen laten dalen, in het gunstigste scenario. Maar ook met deze afname komt het reproductiegetal niet onder de 1. Mouter: \"Het is niet mogelijk nu met welke vorm van coronatoegangsbewijs dan ook het R-getal onder de 1 te krijgen.\"\n",
      "\n",
      "Coronatoegangsbewijs in de prullenbak?\n",
      "\n",
      "Moet het hele coronatoegangsbewijs dan de prullenbak in? \"Tegenstanders zullen deze resultaten zien als een bevestiging van hun mening, maar voorstanders zullen misschien denken: het werkt enigszins en elke besmetting en ziekenhuisopname die je voorkomt is er één.\"\n",
      "\n",
      "De onderzoekers wijzen erop dat de situatie zich blijft ontwikkelen. Over een maand of twee kan het alweer heel anders zijn: het aantal mensen met een doorgemaakte infectie en het aantal geboosterde personen is dan hoger, en het reproductiegetal kan dan zijn afgenomen. \"Dan moeten we weer bij elkaar zitten en opnieuw gaan kijken naar de situatie van dat moment.\"\n",
      "\n",
      "Nieuwe minister is voorstander 2G\n",
      "\n",
      "Volgens minister van Volksgezondheid Ernst Kuipers is het doel van het coronatoegangsbewijs om eerder meer mogelijk te maken, bijvoorbeeld de opening van horeca. Het Delftse onderzoek toont aan dat het op korte termijn zo goed als onmogelijk is om een veiligere setting te organiseren met het 2G-systeem.\n",
      "\n",
      "Het vorige kabinet kwam met het plan om 2G in te voeren, maar daar is in de Tweede Kamer geen meerderheid voor. Kuipers is, net als zijn voorganger Hugo de Jonge, voorstander van 2G. De vraag is of dat zo blijft na de resultaten van dit onderzoek.\n"
     ]
    }
   ],
   "source": [
    "## Je kan hier een andere pagina invullen\n",
    "## Bijv. van de NOS?\n",
    "\n",
    "url = 'https://nos.nl/artikel/2413501-onderzoekers-2g-en-3g-hebben-nu-nauwelijks-effect'\n",
    "a = get_article_info(url)\n",
    "print(a[\"title\"])\n",
    "print(a[\"authors\"])\n",
    "print(a[\"date\"])\n",
    "print(a[\"text\"])\n"
   ]
  },
  {
   "cell_type": "code",
   "execution_count": null,
   "metadata": {},
   "outputs": [],
   "source": []
  },
  {
   "cell_type": "markdown",
   "metadata": {},
   "source": [
    "**We kunnen dit artikel nu ook in een panda Matrix (DataFrame) plaatsen**"
   ]
  },
  {
   "cell_type": "code",
   "execution_count": 16,
   "metadata": {},
   "outputs": [],
   "source": [
    "df = pd.DataFrame.from_records(a)"
   ]
  },
  {
   "cell_type": "code",
   "execution_count": 17,
   "metadata": {},
   "outputs": [
    {
     "data": {
      "text/html": [
       "<div>\n",
       "<style scoped>\n",
       "    .dataframe tbody tr th:only-of-type {\n",
       "        vertical-align: middle;\n",
       "    }\n",
       "\n",
       "    .dataframe tbody tr th {\n",
       "        vertical-align: top;\n",
       "    }\n",
       "\n",
       "    .dataframe thead th {\n",
       "        text-align: right;\n",
       "    }\n",
       "</style>\n",
       "<table border=\"1\" class=\"dataframe\">\n",
       "  <thead>\n",
       "    <tr style=\"text-align: right;\">\n",
       "      <th></th>\n",
       "      <th>authors</th>\n",
       "      <th>date</th>\n",
       "      <th>description</th>\n",
       "      <th>html</th>\n",
       "      <th>text</th>\n",
       "      <th>title</th>\n",
       "      <th>webUrl</th>\n",
       "    </tr>\n",
       "  </thead>\n",
       "  <tbody>\n",
       "    <tr>\n",
       "      <th>0</th>\n",
       "      <td>Hatixhe Raba</td>\n",
       "      <td>None</td>\n",
       "      <td></td>\n",
       "      <td>&lt;!DOCTYPE html&gt;\\n&lt;!--[if IE 8]&gt;    &lt;html class...</td>\n",
       "      <td>Dat het coronatoegangsbewijs minder effectief ...</td>\n",
       "      <td>Onderzoekers: 2G en 3G hebben nu nauwelijks ef...</td>\n",
       "      <td>https://nos.nl/artikel/2413501-onderzoekers-2g...</td>\n",
       "    </tr>\n",
       "    <tr>\n",
       "      <th>1</th>\n",
       "      <td>Redacteur Binnenland</td>\n",
       "      <td>None</td>\n",
       "      <td></td>\n",
       "      <td>&lt;!DOCTYPE html&gt;\\n&lt;!--[if IE 8]&gt;    &lt;html class...</td>\n",
       "      <td>Dat het coronatoegangsbewijs minder effectief ...</td>\n",
       "      <td>Onderzoekers: 2G en 3G hebben nu nauwelijks ef...</td>\n",
       "      <td>https://nos.nl/artikel/2413501-onderzoekers-2g...</td>\n",
       "    </tr>\n",
       "  </tbody>\n",
       "</table>\n",
       "</div>"
      ],
      "text/plain": [
       "                authors  date description  \\\n",
       "0          Hatixhe Raba  None               \n",
       "1  Redacteur Binnenland  None               \n",
       "\n",
       "                                                html  \\\n",
       "0  <!DOCTYPE html>\\n<!--[if IE 8]>    <html class...   \n",
       "1  <!DOCTYPE html>\\n<!--[if IE 8]>    <html class...   \n",
       "\n",
       "                                                text  \\\n",
       "0  Dat het coronatoegangsbewijs minder effectief ...   \n",
       "1  Dat het coronatoegangsbewijs minder effectief ...   \n",
       "\n",
       "                                               title  \\\n",
       "0  Onderzoekers: 2G en 3G hebben nu nauwelijks ef...   \n",
       "1  Onderzoekers: 2G en 3G hebben nu nauwelijks ef...   \n",
       "\n",
       "                                              webUrl  \n",
       "0  https://nos.nl/artikel/2413501-onderzoekers-2g...  \n",
       "1  https://nos.nl/artikel/2413501-onderzoekers-2g...  "
      ]
     },
     "execution_count": 17,
     "metadata": {},
     "output_type": "execute_result"
    }
   ],
   "source": [
    "df.head()\n",
    "# df['text'].text()"
   ]
  },
  {
   "cell_type": "code",
   "execution_count": 18,
   "metadata": {},
   "outputs": [],
   "source": [
    "df.to_json(\"ap_articles.json\", orient=\"records\")"
   ]
  },
  {
   "cell_type": "markdown",
   "metadata": {
    "tags": []
   },
   "source": [
    "### Laten we een aantal pagina's inlezen in een lijst"
   ]
  },
  {
   "cell_type": "code",
   "execution_count": 19,
   "metadata": {},
   "outputs": [],
   "source": [
    "urls = [\n",
    "    \"https://www.nu.nl/tech/6177312/ces-trekt-veel-minder-bezoekers-dan-voor-coronapandemie.html\",\n",
    "    \"https://nos.nl/artikel/2413501-onderzoekers-2g-en-3g-hebben-nu-nauwelijks-effect\",\n",
    "    \"https://nos.nl/artikel/2413502-slachtoffer-wangedrag-the-voice-op-dat-moment-ging-hij-even-voelen\",\n",
    "]"
   ]
  },
  {
   "cell_type": "code",
   "execution_count": 20,
   "metadata": {
    "tags": []
   },
   "outputs": [
    {
     "data": {
      "text/html": [
       "<div>\n",
       "<style scoped>\n",
       "    .dataframe tbody tr th:only-of-type {\n",
       "        vertical-align: middle;\n",
       "    }\n",
       "\n",
       "    .dataframe tbody tr th {\n",
       "        vertical-align: top;\n",
       "    }\n",
       "\n",
       "    .dataframe thead th {\n",
       "        text-align: right;\n",
       "    }\n",
       "</style>\n",
       "<table border=\"1\" class=\"dataframe\">\n",
       "  <thead>\n",
       "    <tr style=\"text-align: right;\">\n",
       "      <th></th>\n",
       "      <th>title</th>\n",
       "      <th>text</th>\n",
       "      <th>webUrl</th>\n",
       "      <th>description</th>\n",
       "    </tr>\n",
       "  </thead>\n",
       "  <tbody>\n",
       "    <tr>\n",
       "      <th>0</th>\n",
       "      <td>Techbeurs CES trekt veel minder bezoekers dan ...</td>\n",
       "      <td>Techbeurs CES in Las Vegas heeft dit jaar veel...</td>\n",
       "      <td>https://www.nu.nl/tech/6177312/ces-trekt-veel-...</td>\n",
       "      <td>Techbeurs CES in Las Vegas heeft dit jaar veel...</td>\n",
       "    </tr>\n",
       "    <tr>\n",
       "      <th>1</th>\n",
       "      <td>Onderzoekers: 2G en 3G hebben nu nauwelijks ef...</td>\n",
       "      <td>Dat het coronatoegangsbewijs minder effectief ...</td>\n",
       "      <td>https://nos.nl/artikel/2413501-onderzoekers-2g...</td>\n",
       "      <td></td>\n",
       "    </tr>\n",
       "    <tr>\n",
       "      <th>2</th>\n",
       "      <td>Slachtoffer wangedrag The Voice: 'Op dat momen...</td>\n",
       "      <td>Twee voormalig deelneemsters van The Voice of ...</td>\n",
       "      <td>https://nos.nl/artikel/2413502-slachtoffer-wan...</td>\n",
       "      <td></td>\n",
       "    </tr>\n",
       "  </tbody>\n",
       "</table>\n",
       "</div>"
      ],
      "text/plain": [
       "                                               title  \\\n",
       "0  Techbeurs CES trekt veel minder bezoekers dan ...   \n",
       "1  Onderzoekers: 2G en 3G hebben nu nauwelijks ef...   \n",
       "2  Slachtoffer wangedrag The Voice: 'Op dat momen...   \n",
       "\n",
       "                                                text  \\\n",
       "0  Techbeurs CES in Las Vegas heeft dit jaar veel...   \n",
       "1  Dat het coronatoegangsbewijs minder effectief ...   \n",
       "2  Twee voormalig deelneemsters van The Voice of ...   \n",
       "\n",
       "                                              webUrl  \\\n",
       "0  https://www.nu.nl/tech/6177312/ces-trekt-veel-...   \n",
       "1  https://nos.nl/artikel/2413501-onderzoekers-2g...   \n",
       "2  https://nos.nl/artikel/2413502-slachtoffer-wan...   \n",
       "\n",
       "                                         description  \n",
       "0  Techbeurs CES in Las Vegas heeft dit jaar veel...  \n",
       "1                                                     \n",
       "2                                                     "
      ]
     },
     "execution_count": 20,
     "metadata": {},
     "output_type": "execute_result"
    }
   ],
   "source": [
    "article_data = []  # Blank list to store results\n",
    "\n",
    "# Loop over each URL\n",
    "for url in urls:\n",
    "    a = get_article_info(url)\n",
    "    article_data.append(a)\n",
    "\n",
    "# convert list of dictionaries to dataframe\n",
    "df = pd.DataFrame.from_records(article_data)\n",
    "df.columns\n",
    "\n",
    "df_beter = df[['title', 'text', 'webUrl', 'description']].copy()\n",
    "\n",
    "df_beter"
   ]
  },
  {
   "cell_type": "markdown",
   "metadata": {
    "tags": []
   },
   "source": [
    "Als we alleen de titel en de url nodig hebben"
   ]
  },
  {
   "cell_type": "code",
   "execution_count": null,
   "metadata": {
    "slideshow": {
     "slide_type": "skip"
    }
   },
   "outputs": [],
   "source": [
    "df[[\"title\", \"webUrl\"]]"
   ]
  },
  {
   "cell_type": "markdown",
   "metadata": {
    "slideshow": {
     "slide_type": "slide"
    }
   },
   "source": [
    "### Wat als we iets anders willen dan de inhoud van een artikel? ###\n",
    "\n",
    "**Stel we willen de Headlines**\n"
   ]
  },
  {
   "cell_type": "code",
   "execution_count": null,
   "metadata": {
    "slideshow": {
     "slide_type": "skip"
    }
   },
   "outputs": [],
   "source": [
    "    \n",
    "\n",
    "# alle_links[12].html"
   ]
  },
  {
   "cell_type": "code",
   "execution_count": 21,
   "metadata": {},
   "outputs": [],
   "source": [
    "url = 'https://nu.nl/'"
   ]
  },
  {
   "cell_type": "code",
   "execution_count": 25,
   "metadata": {},
   "outputs": [
    {
     "data": {
      "text/plain": [
       "200"
      ]
     },
     "execution_count": 25,
     "metadata": {},
     "output_type": "execute_result"
    }
   ],
   "source": [
    "session = HTMLSession()\n",
    "\n",
    "r = session.get(url)\n",
    "r.status_code # Als dit 200 teruggeeft is de connectie gelukt"
   ]
  },
  {
   "cell_type": "code",
   "execution_count": 26,
   "metadata": {},
   "outputs": [],
   "source": [
    "parsed_html = r.html"
   ]
  },
  {
   "cell_type": "code",
   "execution_count": 27,
   "metadata": {},
   "outputs": [
    {
     "data": {
      "text/plain": [
       "<HTML url='https://www.nu.nl/'>"
      ]
     },
     "execution_count": 27,
     "metadata": {},
     "output_type": "execute_result"
    }
   ],
   "source": [
    "parsed_html"
   ]
  },
  {
   "cell_type": "markdown",
   "metadata": {
    "slideshow": {
     "slide_type": "slide"
    }
   },
   "source": [
    "\n",
    "\n",
    "**We moeten nu in de code op zoek naar tags. Zoeken in een brij met code dus...**\n",
    "\n",
    "Ik laat de eerste 1000 woorden zien. Als je alle wilt zien doe dan parsed_html.html\n"
   ]
  },
  {
   "cell_type": "code",
   "execution_count": 29,
   "metadata": {
    "tags": []
   },
   "outputs": [
    {
     "data": {
      "text/plain": [
       "'\\n<!DOCTYPE html>\\n<html class=\"no-js \" lang=\"nl\">\\n<head>\\n    <meta charset=\"utf-8\" />\\n    <meta http-equiv=\"X-UA-Compatible\" content=\"IE=edge,chrome=1\" /><script type=\"text/javascript\">(window.NREUM||(NREUM={})).init={ajax:{deny_list:[\"bam.nr-data.net\"]}};(window.NREUM||(NREUM={})).loader_config={licenseKey:\"4702f272e2\",applicationID:\"883437927\"};window.NREUM||(NREUM={}),__nr_require=function(t,e,n){function r(n){if(!e[n]){var i=e[n]={exports:{}};t[n][0].call(i.exports,function(e){var i=t[n][1][e];return r(i||e)},i,i.exports)}return e[n].exports}if(\"function\"==typeof __nr_require)return __nr_require;for(var i=0;i<n.length;i++)r(n[i]);return r}({1:[function(t,e,n){function r(){}function i(t,e,n,r){return function(){return s.recordSupportability(\"API/\"+e+\"/called\"),o(t+e,[u.now()].concat(c(arguments)),n?null:this,r),n?void 0:this}}var o=t(\"handle\"),a=t(10),c=t(11),f=t(\"ee\").get(\"tracer\"),u=t(\"loader\"),s=t(4),d=NREUM;\"undefined\"==typeof window.newrelic&&(newrelic=d);var p=[\"setPageViewName'"
      ]
     },
     "execution_count": 29,
     "metadata": {},
     "output_type": "execute_result"
    }
   ],
   "source": [
    "parsed_html.html[:1000]"
   ]
  },
  {
   "cell_type": "markdown",
   "metadata": {
    "slideshow": {
     "slide_type": "slide"
    },
    "tags": []
   },
   "source": [
    "### HTML code doorzoeken  ###\n",
    "\n",
    "We zijn op zoek naar de headlines en er bestaat een Tag **headline** dus we gaan alle tags met de naam headlines binnen halen.\n",
    "    \n"
   ]
  },
  {
   "cell_type": "markdown",
   "metadata": {
    "slideshow": {
     "slide_type": "slide"
    },
    "tags": []
   },
   "source": [
    "\n",
    "We gebruiken hier de functie find voor"
   ]
  },
  {
   "cell_type": "code",
   "execution_count": 30,
   "metadata": {},
   "outputs": [
    {
     "name": "stdout",
     "output_type": "stream",
     "text": [
      "2G-beleid is momenteel zinloos, 1G-beleid heeft volgens onderzoek meeste impact\n",
      "Podcast\n",
      "Kinderen krijgen brief voor vaccin | Vijlbrief praat weer met boze Groningers\n",
      "The Voice\n",
      "Verlinde wilde opmerkingen over Tan 'niet op één hoop gooien' met The Voice\n",
      "Economie\n",
      "We drinken minder, maar wel luxer en daar profiteert de slijter van\n",
      "NU+ Klimaat\n",
      "Slinkende 'koolstofbudget' maakt klimaatdoelen voor 2030 nog belangrijker\n",
      "Sport\n",
      "Van Gaal stemde bij FIFA-awards op Kanté, Van Dijk koos ploeggenoot Salah\n",
      "Tech\n",
      "Uitzondering voor mondkapjes wordt niet toegevoegd aan CoronaCheck-app\n",
      "Media en Cultuur\n",
      "Justice League-regisseur reageert voor het eerst op beschuldigingen wangedrag\n",
      "Achterklap\n",
      "Mariska Bauer is aan beterende hand na herseninfarct\n",
      "Ondernemen\n",
      "'Toen ik weer kanker kreeg, besloot ik fulltime ondernemer te worden'\n",
      "Onderweg\n",
      "Waarom auto's tegenwoordig minder lang meegaan dan vroeger\n",
      "Uit andere media\n",
      "De Morgen 'Niet overbevolking maar overconsumptie is het probleem'\n",
      "NUshop\n",
      "Bestel tickets voor A tribute to ABBA vanaf 49 euro\n"
     ]
    }
   ],
   "source": [
    "for item in parsed_html.find('.headline'):\n",
    "    print(item.text)"
   ]
  },
  {
   "cell_type": "markdown",
   "metadata": {
    "slideshow": {
     "slide_type": "slide"
    },
    "tags": []
   },
   "source": [
    "\n",
    "### Hoe krijg je nu de links van de headlines? ###\n",
    "\n",
    "Daarvoor gebruiken we de functie **absolute_links**"
   ]
  },
  {
   "cell_type": "code",
   "execution_count": 31,
   "metadata": {},
   "outputs": [],
   "source": [
    "mijnlinks = []\n",
    "for link in parsed_html.absolute_links:\n",
    "    if 'corona' in link: # and 'covid' in link:\n",
    "        mijnlinks.append(link)\n",
    "\n",
    "df = pd.DataFrame(mijnlinks,columns =[\"Mijnlinks\"])\n"
   ]
  },
  {
   "cell_type": "markdown",
   "metadata": {
    "slideshow": {
     "slide_type": "slide"
    },
    "tags": []
   },
   "source": [
    "\n",
    "#### In df staat nu de Matrix met de links in soort tabelvorm ####\n",
    "\n"
   ]
  },
  {
   "cell_type": "code",
   "execution_count": 32,
   "metadata": {},
   "outputs": [
    {
     "data": {
      "text/html": [
       "<div>\n",
       "<style scoped>\n",
       "    .dataframe tbody tr th:only-of-type {\n",
       "        vertical-align: middle;\n",
       "    }\n",
       "\n",
       "    .dataframe tbody tr th {\n",
       "        vertical-align: top;\n",
       "    }\n",
       "\n",
       "    .dataframe thead th {\n",
       "        text-align: right;\n",
       "    }\n",
       "</style>\n",
       "<table border=\"1\" class=\"dataframe\">\n",
       "  <thead>\n",
       "    <tr style=\"text-align: right;\">\n",
       "      <th></th>\n",
       "      <th>Mijnlinks</th>\n",
       "    </tr>\n",
       "  </thead>\n",
       "  <tbody>\n",
       "    <tr>\n",
       "      <th>0</th>\n",
       "      <td>https://www.nu.nl/algemeen/6178778/hoe-coronah...</td>\n",
       "    </tr>\n",
       "    <tr>\n",
       "      <th>1</th>\n",
       "      <td>https://www.nu.nl/coronavirus</td>\n",
       "    </tr>\n",
       "    <tr>\n",
       "      <th>2</th>\n",
       "      <td>https://www.nu.nl/tech/6178678/uitzondering-vo...</td>\n",
       "    </tr>\n",
       "    <tr>\n",
       "      <th>3</th>\n",
       "      <td>https://www.nu.nl/coronavirus/6169882/ouders-k...</td>\n",
       "    </tr>\n",
       "    <tr>\n",
       "      <th>4</th>\n",
       "      <td>https://www.nu.nl/coronavirus/6178777/2g-belei...</td>\n",
       "    </tr>\n",
       "  </tbody>\n",
       "</table>\n",
       "</div>"
      ],
      "text/plain": [
       "                                           Mijnlinks\n",
       "0  https://www.nu.nl/algemeen/6178778/hoe-coronah...\n",
       "1                      https://www.nu.nl/coronavirus\n",
       "2  https://www.nu.nl/tech/6178678/uitzondering-vo...\n",
       "3  https://www.nu.nl/coronavirus/6169882/ouders-k...\n",
       "4  https://www.nu.nl/coronavirus/6178777/2g-belei..."
      ]
     },
     "execution_count": 32,
     "metadata": {},
     "output_type": "execute_result"
    }
   ],
   "source": [
    "df"
   ]
  },
  {
   "cell_type": "markdown",
   "metadata": {
    "slideshow": {
     "slide_type": "slide"
    },
    "tags": []
   },
   "source": [
    "\n",
    "#### Met de functie **absolute_links** maken we echet hyperlinks ####\n",
    "\n"
   ]
  },
  {
   "cell_type": "code",
   "execution_count": 33,
   "metadata": {},
   "outputs": [
    {
     "name": "stdout",
     "output_type": "stream",
     "text": [
      "https://www.nu.nl/algemeen/6178778/hoe-coronahonden-zich-moeten-aanpassen-aan-de-omikronvariant.html\n",
      "\n",
      "https://www.nu.nl/coronavirus\n",
      "\n",
      "https://www.nu.nl/tech/6178678/uitzondering-voor-mondkapjes-wordt-niet-toegevoegd-aan-coronacheck-app.html\n",
      "\n",
      "https://www.nu.nl/coronavirus/6169882/ouders-krijgen-een-brief-voor-kindervaccinatie.html\n",
      "\n",
      "https://www.nu.nl/coronavirus/6178777/2g-beleid-is-momenteel-zinloos-1g-beleid-heeft-volgens-onderzoek-meeste-impact.html\n",
      "\n"
     ]
    }
   ],
   "source": [
    "for link in parsed_html.absolute_links:\n",
    "    if 'corona' in link: # and 'covid' in link:\n",
    "        \n",
    "        print(link)\n",
    "        print()"
   ]
  },
  {
   "cell_type": "code",
   "execution_count": 34,
   "metadata": {
    "tags": []
   },
   "outputs": [
    {
     "data": {
      "application/vnd.jupyter.widget-view+json": {
       "model_id": "69a856e4fc7843568cd76a2753e7e8fb",
       "version_major": 2,
       "version_minor": 0
      },
      "text/plain": [
       "HTML(value=\"<a href='https://www.nu.nl/tech/6177312/ces-trekt-veel-minder-bezoekers-dan-voor-coronapandemie.ht…"
      ]
     },
     "metadata": {},
     "output_type": "display_data"
    }
   ],
   "source": [
    "widgets.HTML(\"<a href='\" + df_beter[\"webUrl\"][0] + \"'>'\" + df_beter[\"webUrl\"][0] + \"</a>\")"
   ]
  },
  {
   "cell_type": "code",
   "execution_count": null,
   "metadata": {},
   "outputs": [],
   "source": []
  },
  {
   "cell_type": "markdown",
   "metadata": {},
   "source": [
    "**Tot zover het nieuws.**\n",
    "\n",
    "---"
   ]
  },
  {
   "cell_type": "markdown",
   "metadata": {
    "slideshow": {
     "slide_type": "slide"
    }
   },
   "source": [
    "---\n",
    "\n",
    "\n"
   ]
  },
  {
   "cell_type": "markdown",
   "metadata": {},
   "source": [
    "# Bestaande tabellen gebruiken #"
   ]
  },
  {
   "cell_type": "markdown",
   "metadata": {},
   "source": [
    "Als voorbeeld nemen we de site van de **MBORAAD**\n",
    "\n",
    "\n"
   ]
  },
  {
   "cell_type": "markdown",
   "metadata": {},
   "source": [
    "\n",
    "![alt text](./images/mboraad.PNG \"MBORAAD\")"
   ]
  },
  {
   "cell_type": "markdown",
   "metadata": {},
   "source": [
    "## https://www.mboraad.nl/het-mbo/feiten-en-cijfers/studenten-het-mbo ##"
   ]
  },
  {
   "cell_type": "code",
   "execution_count": 37,
   "metadata": {},
   "outputs": [
    {
     "data": {
      "text/plain": [
       "[                                           0       1\n",
       " 0                         Aantal mbo-scholen   61.00\n",
       " 1                       Aantal mbo-studenten  501.50\n",
       " 2                   Aantal crebo-opleidingen  686.00\n",
       " 3              Aantal mbo-beroepsopleidingen  203.00\n",
       " 4  Gemiddeld aantal studenten per mbo-school    8.22]"
      ]
     },
     "execution_count": 37,
     "metadata": {},
     "output_type": "execute_result"
    }
   ],
   "source": [
    "\n",
    "mboraad_url = 'https://www.mboraad.nl/het-mbo/feiten-en-cijfers/studenten-het-mbo'\n",
    "\n",
    "mboraad2_url = 'https://www.mboraad.nl/het-mbo/feiten-en-cijfers/aansluiting-op-de-arbeidsmarkt'\n",
    "cbs_url = 'https://opendata.cbs.nl/statline/#/CBS/nl/dataset/83851NED/table?ts=1641657271358'\n",
    "\n",
    "pd.read_html(mboraad_url)"
   ]
  },
  {
   "cell_type": "markdown",
   "metadata": {},
   "source": [
    "Bronnen van internet"
   ]
  },
  {
   "cell_type": "code",
   "execution_count": 39,
   "metadata": {},
   "outputs": [],
   "source": [
    "html_table_list = pd.read_html(mboraad_url)\n"
   ]
  },
  {
   "cell_type": "code",
   "execution_count": 42,
   "metadata": {},
   "outputs": [
    {
     "data": {
      "text/plain": [
       "array([['Aantal mbo-scholen', 61.0],\n",
       "       ['Aantal mbo-studenten', 501.5],\n",
       "       ['Aantal crebo-opleidingen', 686.0],\n",
       "       ['Aantal mbo-beroepsopleidingen', 203.0],\n",
       "       ['Gemiddeld aantal studenten per mbo-school', 8.22]], dtype=object)"
      ]
     },
     "execution_count": 42,
     "metadata": {},
     "output_type": "execute_result"
    }
   ],
   "source": [
    "tabel1 = html_table_list[0]\n",
    "# tabel2 = html_table_list[1]\n",
    "type(tabel1)\n",
    "tabel1.values"
   ]
  },
  {
   "cell_type": "code",
   "execution_count": null,
   "metadata": {},
   "outputs": [],
   "source": [
    "# tabel2.values"
   ]
  },
  {
   "cell_type": "markdown",
   "metadata": {},
   "source": [
    "**Of deze van de MBORAAD**\n"
   ]
  },
  {
   "cell_type": "markdown",
   "metadata": {},
   "source": [
    "## https://www.mboraad.nl/het-mbo/feiten-en-cijfers/aansluiting-op-de-arbeidsmarkt ## "
   ]
  },
  {
   "cell_type": "markdown",
   "metadata": {},
   "source": [
    "### *TABEL: Aansluiting van opleidingen met huidige functie is voldoende/goed (%)* ###\n",
    "---"
   ]
  },
  {
   "cell_type": "code",
   "execution_count": 44,
   "metadata": {},
   "outputs": [
    {
     "data": {
      "text/html": [
       "<div>\n",
       "<style scoped>\n",
       "    .dataframe tbody tr th:only-of-type {\n",
       "        vertical-align: middle;\n",
       "    }\n",
       "\n",
       "    .dataframe tbody tr th {\n",
       "        vertical-align: top;\n",
       "    }\n",
       "\n",
       "    .dataframe thead th {\n",
       "        text-align: right;\n",
       "    }\n",
       "</style>\n",
       "<table border=\"1\" class=\"dataframe\">\n",
       "  <thead>\n",
       "    <tr style=\"text-align: right;\">\n",
       "      <th></th>\n",
       "      <th>Niveau</th>\n",
       "      <th>2014-2015</th>\n",
       "      <th>2015-2016</th>\n",
       "      <th>2016-2017</th>\n",
       "      <th>2017-2018</th>\n",
       "      <th>2018-2019</th>\n",
       "    </tr>\n",
       "  </thead>\n",
       "  <tbody>\n",
       "    <tr>\n",
       "      <th>0</th>\n",
       "      <td>Bol, entree</td>\n",
       "      <td>72</td>\n",
       "      <td>70</td>\n",
       "      <td>76</td>\n",
       "      <td>67</td>\n",
       "      <td>67</td>\n",
       "    </tr>\n",
       "    <tr>\n",
       "      <th>1</th>\n",
       "      <td>Bbl, entree</td>\n",
       "      <td>81</td>\n",
       "      <td>82</td>\n",
       "      <td>80</td>\n",
       "      <td>73</td>\n",
       "      <td>76</td>\n",
       "    </tr>\n",
       "    <tr>\n",
       "      <th>2</th>\n",
       "      <td>Bol, niveau 2</td>\n",
       "      <td>70</td>\n",
       "      <td>74</td>\n",
       "      <td>76</td>\n",
       "      <td>64</td>\n",
       "      <td>64</td>\n",
       "    </tr>\n",
       "    <tr>\n",
       "      <th>3</th>\n",
       "      <td>Bbl, niveau 2</td>\n",
       "      <td>81</td>\n",
       "      <td>82</td>\n",
       "      <td>83</td>\n",
       "      <td>83</td>\n",
       "      <td>86</td>\n",
       "    </tr>\n",
       "    <tr>\n",
       "      <th>4</th>\n",
       "      <td>Bol, niveau 3</td>\n",
       "      <td>70</td>\n",
       "      <td>73</td>\n",
       "      <td>75</td>\n",
       "      <td>73</td>\n",
       "      <td>76</td>\n",
       "    </tr>\n",
       "    <tr>\n",
       "      <th>5</th>\n",
       "      <td>Bbl, niveau 3</td>\n",
       "      <td>86</td>\n",
       "      <td>86</td>\n",
       "      <td>86</td>\n",
       "      <td>87</td>\n",
       "      <td>89</td>\n",
       "    </tr>\n",
       "    <tr>\n",
       "      <th>6</th>\n",
       "      <td>Bol, niveau 4</td>\n",
       "      <td>69</td>\n",
       "      <td>72</td>\n",
       "      <td>73</td>\n",
       "      <td>72</td>\n",
       "      <td>74</td>\n",
       "    </tr>\n",
       "    <tr>\n",
       "      <th>7</th>\n",
       "      <td>Bbl, niveau 4</td>\n",
       "      <td>82</td>\n",
       "      <td>82</td>\n",
       "      <td>81</td>\n",
       "      <td>87</td>\n",
       "      <td>89</td>\n",
       "    </tr>\n",
       "  </tbody>\n",
       "</table>\n",
       "</div>"
      ],
      "text/plain": [
       "          Niveau  2014-2015  2015-2016  2016-2017  2017-2018  2018-2019\n",
       "0    Bol, entree         72         70         76         67         67\n",
       "1    Bbl, entree         81         82         80         73         76\n",
       "2  Bol, niveau 2         70         74         76         64         64\n",
       "3  Bbl, niveau 2         81         82         83         83         86\n",
       "4  Bol, niveau 3         70         73         75         73         76\n",
       "5  Bbl, niveau 3         86         86         86         87         89\n",
       "6  Bol, niveau 4         69         72         73         72         74\n",
       "7  Bbl, niveau 4         82         82         81         87         89"
      ]
     },
     "execution_count": 44,
     "metadata": {},
     "output_type": "execute_result"
    }
   ],
   "source": [
    "html_table_list = pd.read_html(mboraad2_url)\n",
    "html_table_list[0]"
   ]
  },
  {
   "cell_type": "markdown",
   "metadata": {},
   "source": [
    "### *TABEL Werkloosheid %* ###\n",
    "---\n",
    "\n"
   ]
  },
  {
   "cell_type": "code",
   "execution_count": 45,
   "metadata": {},
   "outputs": [
    {
     "data": {
      "text/html": [
       "<div>\n",
       "<style scoped>\n",
       "    .dataframe tbody tr th:only-of-type {\n",
       "        vertical-align: middle;\n",
       "    }\n",
       "\n",
       "    .dataframe tbody tr th {\n",
       "        vertical-align: top;\n",
       "    }\n",
       "\n",
       "    .dataframe thead th {\n",
       "        text-align: right;\n",
       "    }\n",
       "</style>\n",
       "<table border=\"1\" class=\"dataframe\">\n",
       "  <thead>\n",
       "    <tr style=\"text-align: right;\">\n",
       "      <th></th>\n",
       "      <th>Niveau</th>\n",
       "      <th>2014-2015</th>\n",
       "      <th>2015-2016</th>\n",
       "      <th>2016-2017</th>\n",
       "      <th>2017-2018</th>\n",
       "      <th>2018-2019</th>\n",
       "    </tr>\n",
       "  </thead>\n",
       "  <tbody>\n",
       "    <tr>\n",
       "      <th>0</th>\n",
       "      <td>Bol, entree</td>\n",
       "      <td>189</td>\n",
       "      <td>145.0</td>\n",
       "      <td>195</td>\n",
       "      <td>159</td>\n",
       "      <td>173</td>\n",
       "    </tr>\n",
       "    <tr>\n",
       "      <th>1</th>\n",
       "      <td>Bbl, entree</td>\n",
       "      <td>118</td>\n",
       "      <td>92.0</td>\n",
       "      <td>115</td>\n",
       "      <td>71</td>\n",
       "      <td>103</td>\n",
       "    </tr>\n",
       "    <tr>\n",
       "      <th>2</th>\n",
       "      <td>Bol, niveau 2</td>\n",
       "      <td>111</td>\n",
       "      <td>78.0</td>\n",
       "      <td>64</td>\n",
       "      <td>63</td>\n",
       "      <td>75</td>\n",
       "    </tr>\n",
       "    <tr>\n",
       "      <th>3</th>\n",
       "      <td>Bbl, niveau 2</td>\n",
       "      <td>28</td>\n",
       "      <td>21.0</td>\n",
       "      <td>11</td>\n",
       "      <td>2</td>\n",
       "      <td>22</td>\n",
       "    </tr>\n",
       "    <tr>\n",
       "      <th>4</th>\n",
       "      <td>Bol, niveau 3</td>\n",
       "      <td>64</td>\n",
       "      <td>49.0</td>\n",
       "      <td>4</td>\n",
       "      <td>44</td>\n",
       "      <td>54</td>\n",
       "    </tr>\n",
       "    <tr>\n",
       "      <th>5</th>\n",
       "      <td>Bbl, niveau 3</td>\n",
       "      <td>6</td>\n",
       "      <td>0.9</td>\n",
       "      <td>8</td>\n",
       "      <td>9</td>\n",
       "      <td>14</td>\n",
       "    </tr>\n",
       "    <tr>\n",
       "      <th>6</th>\n",
       "      <td>Bol, niveau 4</td>\n",
       "      <td>41</td>\n",
       "      <td>33.0</td>\n",
       "      <td>26</td>\n",
       "      <td>34</td>\n",
       "      <td>52</td>\n",
       "    </tr>\n",
       "    <tr>\n",
       "      <th>7</th>\n",
       "      <td>Bbl, niveau 4</td>\n",
       "      <td>13</td>\n",
       "      <td>8.0</td>\n",
       "      <td>6</td>\n",
       "      <td>6</td>\n",
       "      <td>6</td>\n",
       "    </tr>\n",
       "  </tbody>\n",
       "</table>\n",
       "</div>"
      ],
      "text/plain": [
       "          Niveau  2014-2015  2015-2016  2016-2017  2017-2018  2018-2019\n",
       "0    Bol, entree        189      145.0        195        159        173\n",
       "1    Bbl, entree        118       92.0        115         71        103\n",
       "2  Bol, niveau 2        111       78.0         64         63         75\n",
       "3  Bbl, niveau 2         28       21.0         11          2         22\n",
       "4  Bol, niveau 3         64       49.0          4         44         54\n",
       "5  Bbl, niveau 3          6        0.9          8          9         14\n",
       "6  Bol, niveau 4         41       33.0         26         34         52\n",
       "7  Bbl, niveau 4         13        8.0          6          6          6"
      ]
     },
     "execution_count": 45,
     "metadata": {},
     "output_type": "execute_result"
    }
   ],
   "source": [
    "html_table_list[1]"
   ]
  },
  {
   "cell_type": "code",
   "execution_count": 46,
   "metadata": {},
   "outputs": [
    {
     "data": {
      "text/plain": [
       "array([['Bol, entree', 72, 70, 76, 67, 67],\n",
       "       ['Bbl, entree', 81, 82, 80, 73, 76],\n",
       "       ['Bol, niveau 2', 70, 74, 76, 64, 64],\n",
       "       ['Bbl, niveau 2', 81, 82, 83, 83, 86],\n",
       "       ['Bol, niveau 3', 70, 73, 75, 73, 76],\n",
       "       ['Bbl, niveau 3', 86, 86, 86, 87, 89],\n",
       "       ['Bol, niveau 4', 69, 72, 73, 72, 74],\n",
       "       ['Bbl, niveau 4', 82, 82, 81, 87, 89]], dtype=object)"
      ]
     },
     "execution_count": 46,
     "metadata": {},
     "output_type": "execute_result"
    }
   ],
   "source": [
    "tabel1 = html_table_list[0]\n",
    "tabel2 = html_table_list[1]\n",
    "type(tabel1)\n",
    "tabel1.values"
   ]
  },
  {
   "cell_type": "code",
   "execution_count": 47,
   "metadata": {},
   "outputs": [
    {
     "data": {
      "text/plain": [
       "array([['Bol, entree', 189, 145.0, 195, 159, 173],\n",
       "       ['Bbl, entree', 118, 92.0, 115, 71, 103],\n",
       "       ['Bol, niveau 2', 111, 78.0, 64, 63, 75],\n",
       "       ['Bbl, niveau 2', 28, 21.0, 11, 2, 22],\n",
       "       ['Bol, niveau 3', 64, 49.0, 4, 44, 54],\n",
       "       ['Bbl, niveau 3', 6, 0.9, 8, 9, 14],\n",
       "       ['Bol, niveau 4', 41, 33.0, 26, 34, 52],\n",
       "       ['Bbl, niveau 4', 13, 8.0, 6, 6, 6]], dtype=object)"
      ]
     },
     "execution_count": 47,
     "metadata": {},
     "output_type": "execute_result"
    }
   ],
   "source": [
    "tabel2.values"
   ]
  },
  {
   "cell_type": "code",
   "execution_count": 48,
   "metadata": {},
   "outputs": [
    {
     "data": {
      "text/plain": [
       "<AxesSubplot:>"
      ]
     },
     "execution_count": 48,
     "metadata": {},
     "output_type": "execute_result"
    },
    {
     "data": {
      "image/png": "[encoded data removed]",
      "text/plain": [
       "<Figure size 432x288 with 1 Axes>"
      ]
     },
     "metadata": {
      "needs_background": "light"
     },
     "output_type": "display_data"
    }
   ],
   "source": [
    "grafiekje = pd.DataFrame(tabel1.values, tabel2.values)\n",
    "\n",
    "grafiekje[:2].plot()"
   ]
  },
  {
   "cell_type": "markdown",
   "metadata": {},
   "source": [
    "## BESTANDEN VAN DE DUO  ##\n",
    "\n",
    "In dit voorbeeld haal ik https://duo.nl/open_onderwijsdata/images/01-studenten-per-instelling-bestuur-plaats-gemeente-provincie-type-mbo-2016-2020.csv binnen"
   ]
  },
  {
   "cell_type": "code",
   "execution_count": 51,
   "metadata": {},
   "outputs": [
    {
     "data": {
      "text/html": [
       "<div>\n",
       "<style scoped>\n",
       "    .dataframe tbody tr th:only-of-type {\n",
       "        vertical-align: middle;\n",
       "    }\n",
       "\n",
       "    .dataframe tbody tr th {\n",
       "        vertical-align: top;\n",
       "    }\n",
       "\n",
       "    .dataframe thead th {\n",
       "        text-align: right;\n",
       "    }\n",
       "</style>\n",
       "<table border=\"1\" class=\"dataframe\">\n",
       "  <thead>\n",
       "    <tr style=\"text-align: right;\">\n",
       "      <th></th>\n",
       "      <th>PEILJAAR</th>\n",
       "      <th>PROVINCIE</th>\n",
       "      <th>BEVOEGD GEZAG NUMMER</th>\n",
       "      <th>BRIN NUMMER</th>\n",
       "      <th>INSTELLINGSNAAM</th>\n",
       "      <th>PLAATSNAAM</th>\n",
       "      <th>GEMEENTE NUMMER</th>\n",
       "      <th>GEMEENTENAAM</th>\n",
       "      <th>BBL</th>\n",
       "      <th>BOLDT</th>\n",
       "      <th>BOLVT</th>\n",
       "      <th>TOTAAL</th>\n",
       "    </tr>\n",
       "  </thead>\n",
       "  <tbody>\n",
       "    <tr>\n",
       "      <th>0</th>\n",
       "      <td>2016</td>\n",
       "      <td>Drenthe</td>\n",
       "      <td>40872</td>\n",
       "      <td>25PW</td>\n",
       "      <td>ROC Drenthe College</td>\n",
       "      <td>EMMEN</td>\n",
       "      <td>114</td>\n",
       "      <td>Emmen</td>\n",
       "      <td>1642.0</td>\n",
       "      <td>NaN</td>\n",
       "      <td>6256.0</td>\n",
       "      <td>7898</td>\n",
       "    </tr>\n",
       "    <tr>\n",
       "      <th>1</th>\n",
       "      <td>2016</td>\n",
       "      <td>Flevoland</td>\n",
       "      <td>40805</td>\n",
       "      <td>25LR</td>\n",
       "      <td>ROC van Flevoland</td>\n",
       "      <td>ALMERE</td>\n",
       "      <td>34</td>\n",
       "      <td>Almere</td>\n",
       "      <td>513.0</td>\n",
       "      <td>NaN</td>\n",
       "      <td>4500.0</td>\n",
       "      <td>5013</td>\n",
       "    </tr>\n",
       "    <tr>\n",
       "      <th>2</th>\n",
       "      <td>2016</td>\n",
       "      <td>Friesland</td>\n",
       "      <td>30932</td>\n",
       "      <td>08PG</td>\n",
       "      <td>ROC Friese Poort</td>\n",
       "      <td>LEEUWARDEN</td>\n",
       "      <td>80</td>\n",
       "      <td>Leeuwarden</td>\n",
       "      <td>3142.0</td>\n",
       "      <td>NaN</td>\n",
       "      <td>10365.0</td>\n",
       "      <td>13507</td>\n",
       "    </tr>\n",
       "    <tr>\n",
       "      <th>3</th>\n",
       "      <td>2016</td>\n",
       "      <td>Friesland</td>\n",
       "      <td>31126</td>\n",
       "      <td>12VI</td>\n",
       "      <td>Nordwin College</td>\n",
       "      <td>LEEUWARDEN</td>\n",
       "      <td>80</td>\n",
       "      <td>Leeuwarden</td>\n",
       "      <td>274.0</td>\n",
       "      <td>NaN</td>\n",
       "      <td>1398.0</td>\n",
       "      <td>1672</td>\n",
       "    </tr>\n",
       "    <tr>\n",
       "      <th>4</th>\n",
       "      <td>2016</td>\n",
       "      <td>Friesland</td>\n",
       "      <td>40295</td>\n",
       "      <td>25LG</td>\n",
       "      <td>ROC Friesland College</td>\n",
       "      <td>LEEUWARDEN</td>\n",
       "      <td>80</td>\n",
       "      <td>Leeuwarden</td>\n",
       "      <td>1402.0</td>\n",
       "      <td>NaN</td>\n",
       "      <td>8339.0</td>\n",
       "      <td>9741</td>\n",
       "    </tr>\n",
       "  </tbody>\n",
       "</table>\n",
       "</div>"
      ],
      "text/plain": [
       "   PEILJAAR  PROVINCIE  BEVOEGD GEZAG NUMMER BRIN NUMMER  \\\n",
       "0      2016    Drenthe                 40872        25PW   \n",
       "1      2016  Flevoland                 40805        25LR   \n",
       "2      2016  Friesland                 30932        08PG   \n",
       "3      2016  Friesland                 31126        12VI   \n",
       "4      2016  Friesland                 40295        25LG   \n",
       "\n",
       "         INSTELLINGSNAAM  PLAATSNAAM  GEMEENTE NUMMER GEMEENTENAAM  BBL      \\\n",
       "0    ROC Drenthe College       EMMEN              114        Emmen   1642.0   \n",
       "1      ROC van Flevoland      ALMERE               34       Almere    513.0   \n",
       "2       ROC Friese Poort  LEEUWARDEN               80   Leeuwarden   3142.0   \n",
       "3        Nordwin College  LEEUWARDEN               80   Leeuwarden    274.0   \n",
       "4  ROC Friesland College  LEEUWARDEN               80   Leeuwarden   1402.0   \n",
       "\n",
       "   BOLDT    BOLVT    TOTAAL  \n",
       "0      NaN   6256.0    7898  \n",
       "1      NaN   4500.0    5013  \n",
       "2      NaN  10365.0   13507  \n",
       "3      NaN   1398.0    1672  \n",
       "4      NaN   8339.0    9741  "
      ]
     },
     "execution_count": 51,
     "metadata": {},
     "output_type": "execute_result"
    }
   ],
   "source": [
    "df = pd.read_csv('https://duo.nl/open_onderwijsdata/images/01-studenten-per-instelling-bestuur-plaats-gemeente-provincie-type-mbo-2016-2020.csv',sep=';',encoding=\"latin\")\n",
    "df.head()\n"
   ]
  },
  {
   "cell_type": "markdown",
   "metadata": {},
   "source": [
    "#### Als we bijvoorbeeld alleen de INSTELLINGSNAAM willen laten zien\n",
    "\n",
    "**ALLEEN DE EERSTE VIJF ([:5])"
   ]
  },
  {
   "cell_type": "code",
   "execution_count": 55,
   "metadata": {},
   "outputs": [
    {
     "data": {
      "text/plain": [
       "['ROC Drenthe College',\n",
       " 'ROC van Flevoland',\n",
       " 'ROC Friese Poort',\n",
       " 'Nordwin College',\n",
       " 'ROC Friesland College']"
      ]
     },
     "execution_count": 55,
     "metadata": {},
     "output_type": "execute_result"
    }
   ],
   "source": [
    "x = list(df[\"INSTELLINGSNAAM\"])[:5]\n",
    "x"
   ]
  },
  {
   "cell_type": "markdown",
   "metadata": {},
   "source": [
    "\n",
    "\n",
    "**OF VIJF T/M 10 ([5:10])**"
   ]
  },
  {
   "cell_type": "code",
   "execution_count": 56,
   "metadata": {},
   "outputs": [
    {
     "data": {
      "text/plain": [
       "['SOMA College',\n",
       " 'ROC Rivor',\n",
       " 'ROC Graafschap College',\n",
       " 'Aeres (V) MBO',\n",
       " 'Rijn IJssel']"
      ]
     },
     "execution_count": 56,
     "metadata": {},
     "output_type": "execute_result"
    }
   ],
   "source": [
    "x = list(df[\"INSTELLINGSNAAM\"])[5:10]\n",
    "x"
   ]
  },
  {
   "cell_type": "markdown",
   "metadata": {},
   "source": [
    "\n",
    "\n",
    "**OF OP ZOEK ZIJN NAAR DATA OVER DE PEILJAREN 2016 TM 2020 VOOR EEN BEPAALDE INSTELLING**"
   ]
  },
  {
   "cell_type": "code",
   "execution_count": 63,
   "metadata": {},
   "outputs": [
    {
     "data": {
      "text/html": [
       "<div>\n",
       "<style scoped>\n",
       "    .dataframe tbody tr th:only-of-type {\n",
       "        vertical-align: middle;\n",
       "    }\n",
       "\n",
       "    .dataframe tbody tr th {\n",
       "        vertical-align: top;\n",
       "    }\n",
       "\n",
       "    .dataframe thead th {\n",
       "        text-align: right;\n",
       "    }\n",
       "</style>\n",
       "<table border=\"1\" class=\"dataframe\">\n",
       "  <thead>\n",
       "    <tr style=\"text-align: right;\">\n",
       "      <th></th>\n",
       "      <th>PEILJAAR</th>\n",
       "      <th>PROVINCIE</th>\n",
       "      <th>BEVOEGD GEZAG NUMMER</th>\n",
       "      <th>BRIN NUMMER</th>\n",
       "      <th>INSTELLINGSNAAM</th>\n",
       "      <th>PLAATSNAAM</th>\n",
       "      <th>GEMEENTE NUMMER</th>\n",
       "      <th>GEMEENTENAAM</th>\n",
       "      <th>BBL</th>\n",
       "      <th>BOLDT</th>\n",
       "      <th>BOLVT</th>\n",
       "      <th>TOTAAL</th>\n",
       "    </tr>\n",
       "  </thead>\n",
       "  <tbody>\n",
       "    <tr>\n",
       "      <th>0</th>\n",
       "      <td>2016</td>\n",
       "      <td>Drenthe</td>\n",
       "      <td>40872</td>\n",
       "      <td>25PW</td>\n",
       "      <td>ROC Drenthe College</td>\n",
       "      <td>EMMEN</td>\n",
       "      <td>114</td>\n",
       "      <td>Emmen</td>\n",
       "      <td>1642.0</td>\n",
       "      <td>NaN</td>\n",
       "      <td>6256.0</td>\n",
       "      <td>7898</td>\n",
       "    </tr>\n",
       "    <tr>\n",
       "      <th>67</th>\n",
       "      <td>2017</td>\n",
       "      <td>Drenthe</td>\n",
       "      <td>40872</td>\n",
       "      <td>25PW</td>\n",
       "      <td>ROC Drenthe College</td>\n",
       "      <td>EMMEN</td>\n",
       "      <td>114</td>\n",
       "      <td>Emmen</td>\n",
       "      <td>1939.0</td>\n",
       "      <td>NaN</td>\n",
       "      <td>5929.0</td>\n",
       "      <td>7868</td>\n",
       "    </tr>\n",
       "    <tr>\n",
       "      <th>134</th>\n",
       "      <td>2018</td>\n",
       "      <td>Drenthe</td>\n",
       "      <td>40872</td>\n",
       "      <td>25PW</td>\n",
       "      <td>ROC Drenthe College</td>\n",
       "      <td>EMMEN</td>\n",
       "      <td>114</td>\n",
       "      <td>Emmen</td>\n",
       "      <td>2079.0</td>\n",
       "      <td>NaN</td>\n",
       "      <td>5635.0</td>\n",
       "      <td>7714</td>\n",
       "    </tr>\n",
       "    <tr>\n",
       "      <th>198</th>\n",
       "      <td>2019</td>\n",
       "      <td>Drenthe</td>\n",
       "      <td>40872</td>\n",
       "      <td>25PW</td>\n",
       "      <td>ROC Drenthe College</td>\n",
       "      <td>EMMEN</td>\n",
       "      <td>114</td>\n",
       "      <td>Emmen</td>\n",
       "      <td>2294.0</td>\n",
       "      <td>NaN</td>\n",
       "      <td>5478.0</td>\n",
       "      <td>7772</td>\n",
       "    </tr>\n",
       "    <tr>\n",
       "      <th>261</th>\n",
       "      <td>2020</td>\n",
       "      <td>Drenthe</td>\n",
       "      <td>40872</td>\n",
       "      <td>25PW</td>\n",
       "      <td>ROC Drenthe College</td>\n",
       "      <td>EMMEN</td>\n",
       "      <td>114</td>\n",
       "      <td>Emmen</td>\n",
       "      <td>2253.0</td>\n",
       "      <td>NaN</td>\n",
       "      <td>5567.0</td>\n",
       "      <td>7820</td>\n",
       "    </tr>\n",
       "  </tbody>\n",
       "</table>\n",
       "</div>"
      ],
      "text/plain": [
       "     PEILJAAR PROVINCIE  BEVOEGD GEZAG NUMMER BRIN NUMMER  \\\n",
       "0        2016   Drenthe                 40872        25PW   \n",
       "67       2017   Drenthe                 40872        25PW   \n",
       "134      2018   Drenthe                 40872        25PW   \n",
       "198      2019   Drenthe                 40872        25PW   \n",
       "261      2020   Drenthe                 40872        25PW   \n",
       "\n",
       "         INSTELLINGSNAAM PLAATSNAAM  GEMEENTE NUMMER GEMEENTENAAM  BBL      \\\n",
       "0    ROC Drenthe College      EMMEN              114        Emmen   1642.0   \n",
       "67   ROC Drenthe College      EMMEN              114        Emmen   1939.0   \n",
       "134  ROC Drenthe College      EMMEN              114        Emmen   2079.0   \n",
       "198  ROC Drenthe College      EMMEN              114        Emmen   2294.0   \n",
       "261  ROC Drenthe College      EMMEN              114        Emmen   2253.0   \n",
       "\n",
       "     BOLDT    BOLVT    TOTAAL  \n",
       "0        NaN   6256.0    7898  \n",
       "67       NaN   5929.0    7868  \n",
       "134      NaN   5635.0    7714  \n",
       "198      NaN   5478.0    7772  \n",
       "261      NaN   5567.0    7820  "
      ]
     },
     "execution_count": 63,
     "metadata": {},
     "output_type": "execute_result"
    }
   ],
   "source": [
    "df_instelling = df[df[\"INSTELLINGSNAAM\"]==\"ROC Drenthe College\"].copy()\n",
    "df_instelling.head()"
   ]
  },
  {
   "cell_type": "markdown",
   "metadata": {},
   "source": [
    "\n",
    "\n",
    "**Zijn er trends waarneembaar bij de instroom BBL-ers?**"
   ]
  },
  {
   "cell_type": "code",
   "execution_count": 65,
   "metadata": {},
   "outputs": [
    {
     "data": {
      "text/plain": [
       "<AxesSubplot:xlabel='PEILJAAR'>"
      ]
     },
     "execution_count": 65,
     "metadata": {},
     "output_type": "execute_result"
    },
    {
     "data": {
      "image/png": "[encoded data removed]",
      "text/plain": [
       "<Figure size 432x288 with 1 Axes>"
      ]
     },
     "metadata": {
      "needs_background": "light"
     },
     "output_type": "display_data"
    }
   ],
   "source": [
    "df_instelling[[\"PEILJAAR\", \"BBL    \"]].plot.bar(x=\"PEILJAAR\",y=\"BBL    \")\n",
    "# df_instelling.columns"
   ]
  },
  {
   "cell_type": "markdown",
   "metadata": {},
   "source": [
    "\n",
    "\n",
    "**Welke instelling heeft het grootste aantal studenten?**"
   ]
  },
  {
   "cell_type": "code",
   "execution_count": 66,
   "metadata": {},
   "outputs": [
    {
     "data": {
      "text/html": [
       "<div>\n",
       "<style scoped>\n",
       "    .dataframe tbody tr th:only-of-type {\n",
       "        vertical-align: middle;\n",
       "    }\n",
       "\n",
       "    .dataframe tbody tr th {\n",
       "        vertical-align: top;\n",
       "    }\n",
       "\n",
       "    .dataframe thead th {\n",
       "        text-align: right;\n",
       "    }\n",
       "</style>\n",
       "<table border=\"1\" class=\"dataframe\">\n",
       "  <thead>\n",
       "    <tr style=\"text-align: right;\">\n",
       "      <th></th>\n",
       "      <th>PEILJAAR</th>\n",
       "      <th>PROVINCIE</th>\n",
       "      <th>BEVOEGD GEZAG NUMMER</th>\n",
       "      <th>BRIN NUMMER</th>\n",
       "      <th>INSTELLINGSNAAM</th>\n",
       "      <th>PLAATSNAAM</th>\n",
       "      <th>GEMEENTE NUMMER</th>\n",
       "      <th>GEMEENTENAAM</th>\n",
       "      <th>BBL</th>\n",
       "      <th>BOLDT</th>\n",
       "      <th>BOLVT</th>\n",
       "      <th>TOTAAL</th>\n",
       "    </tr>\n",
       "  </thead>\n",
       "  <tbody>\n",
       "    <tr>\n",
       "      <th>295</th>\n",
       "      <td>2020</td>\n",
       "      <td>Noord-Holland</td>\n",
       "      <td>40833</td>\n",
       "      <td>25PZ</td>\n",
       "      <td>ROC van Amsterdam</td>\n",
       "      <td>AMSTERDAM</td>\n",
       "      <td>363</td>\n",
       "      <td>Amsterdam</td>\n",
       "      <td>5569.0</td>\n",
       "      <td>NaN</td>\n",
       "      <td>26704.0</td>\n",
       "      <td>32273</td>\n",
       "    </tr>\n",
       "  </tbody>\n",
       "</table>\n",
       "</div>"
      ],
      "text/plain": [
       "     PEILJAAR      PROVINCIE  BEVOEGD GEZAG NUMMER BRIN NUMMER  \\\n",
       "295      2020  Noord-Holland                 40833        25PZ   \n",
       "\n",
       "       INSTELLINGSNAAM PLAATSNAAM  GEMEENTE NUMMER GEMEENTENAAM  BBL      \\\n",
       "295  ROC van Amsterdam  AMSTERDAM              363    Amsterdam   5569.0   \n",
       "\n",
       "     BOLDT    BOLVT    TOTAAL  \n",
       "295      NaN  26704.0   32273  "
      ]
     },
     "execution_count": 66,
     "metadata": {},
     "output_type": "execute_result"
    }
   ],
   "source": [
    "df_grootste = df[df[\"TOTAAL\"] == df[\"TOTAAL\"].max()].copy()\n",
    "df_grootste.head()"
   ]
  },
  {
   "cell_type": "markdown",
   "metadata": {},
   "source": [
    "---\n"
   ]
  },
  {
   "cell_type": "markdown",
   "metadata": {},
   "source": [
    "## Tot slot wat willekeurige grafiekjes voor de leuk ##\n",
    "\n",
    "**Inhoudelijk geen betekenis. Bedoelt als illustratie voor wat er mogelijk is**\n",
    "\n",
    "\n",
    "---"
   ]
  },
  {
   "cell_type": "markdown",
   "metadata": {},
   "source": [
    "-"
   ]
  },
  {
   "cell_type": "code",
   "execution_count": 82,
   "metadata": {},
   "outputs": [],
   "source": [
    "import numpy as np\n",
    "import bqplot.pyplot as plt\n",
    "\n",
    "dates = df_instelling[\"PEILJAAR\"]\n",
    "\n"
   ]
  },
  {
   "cell_type": "code",
   "execution_count": 83,
   "metadata": {},
   "outputs": [],
   "source": [
    "\n",
    "size = len(dates)\n",
    "\n",
    "totaal = df_instelling[\"TOTAAL\"] \n",
    "\n",
    "titel = df_instelling[\"INSTELLINGSNAAM\"][0] + ' Aantal Studenten'"
   ]
  },
  {
   "cell_type": "code",
   "execution_count": 84,
   "metadata": {},
   "outputs": [
    {
     "data": {
      "application/vnd.jupyter.widget-view+json": {
       "model_id": "ab9c72b65bbc43498d23fbf912d42b44",
       "version_major": 2,
       "version_minor": 0
      },
      "text/plain": [
       "Figure(axes=[Axis(label='Cohort', scale=LinearScale(), tick_format='i'), Axis(label='Aantal Studenten', orient…"
      ]
     },
     "metadata": {},
     "output_type": "display_data"
    }
   ],
   "source": [
    "fig = plt.figure(title=titel, background_style={'fill': 'lightblue'},\n",
    "                 title_style={'font-size': '20px','fill': 'DarkOrange'})\n",
    "axes_options = {'x': {'label': 'Cohort', 'tick_format': 'i'},\n",
    "                'y': {'label': 'Aantal Studenten', 'tick_format': '0.0f'}}\n",
    "plt.plot(dates, totaal, 'b', axes_options=axes_options) # third argument is the marker string\n",
    "fig"
   ]
  },
  {
   "cell_type": "code",
   "execution_count": 70,
   "metadata": {},
   "outputs": [
    {
     "data": {
      "application/vnd.jupyter.widget-view+json": {
       "model_id": "d281e867201943619aa99e5eedde2100",
       "version_major": 2,
       "version_minor": 0
      },
      "text/plain": [
       "Figure(axes=[Axis(grid_lines='none', label='INSTELLING', scale=OrdinalScale()), Axis(label='AANTAL STUDENTEN',…"
      ]
     },
     "metadata": {},
     "output_type": "display_data"
    }
   ],
   "source": [
    "y = df[\"TOTAAL\"] \n",
    "x = list(df[\"INSTELLINGSNAAM\"][:5])\n",
    "\n",
    "# 1. Create the figure object\n",
    "fig = plt.figure(title='Aantal Studenten per instelling')\n",
    "\n",
    "# 2. Customize the axes options\n",
    "axes_opts = {'x': {'label': 'INSTELLING', 'grid_lines': 'none'},\n",
    "             'y': {'label': 'AANTAL STUDENTEN', 'tick_format': 't'}}\n",
    "\n",
    "# 3. Create a Bars mark by calling plt.bar function\n",
    "bar = plt.bar(x=x, y=y, padding=.1, axes_options=axes_opts)\n",
    "\n",
    "# 4. directly display the figure object created in step 1 (note that the toolbar no longer shows up)\n",
    "fig"
   ]
  },
  {
   "cell_type": "code",
   "execution_count": 71,
   "metadata": {},
   "outputs": [
    {
     "data": {
      "application/vnd.jupyter.widget-view+json": {
       "model_id": "fed80252797848babbf8ca872f70a8e0",
       "version_major": 2,
       "version_minor": 0
      },
      "text/plain": [
       "Figure(axes=[Axis(grid_lines='none', label='INSTELLING', scale=OrdinalScale()), Axis(label='PERCENTAGE BBL STU…"
      ]
     },
     "metadata": {},
     "output_type": "display_data"
    }
   ],
   "source": [
    "y = df[\"BBL    \"] / df[\"TOTAAL\"] *100\n",
    "\n",
    "# y = dfdf[\"BBL    \"]]\n",
    "\n",
    "x = list(df[\"INSTELLINGSNAAM\"][35:43])\n",
    "\n",
    "# 1. Create the figure object\n",
    "fig = plt.figure(title='Percentage BBL studenten')\n",
    "\n",
    "# 2. Customize the axes options\n",
    "axes_opts = {'x': {'label': 'INSTELLING', 'grid_lines': 'none'},\n",
    "             'y': {'label': 'PERCENTAGE BBL STUDENTEN', 'tick_format': 't' }}\n",
    "\n",
    "# 3. Create a Bars mark by calling plt.bar function\n",
    "bar = plt.bar(x=x, y=y, padding=.1, axes_options=axes_opts)\n",
    "\n",
    "# 4. directly display the figure object created in step 1 (note that the toolbar no longer shows up)\n",
    "fig"
   ]
  },
  {
   "cell_type": "code",
   "execution_count": 72,
   "metadata": {},
   "outputs": [
    {
     "data": {
      "application/vnd.jupyter.widget-view+json": {
       "model_id": "cf83c81067f24fe9a720500d10c36f6b",
       "version_major": 2,
       "version_minor": 0
      },
      "text/plain": [
       "VBox(children=(Figure(axes=[ColorAxis(scale=ColorScale()), Axis(scale=LinearScale()), Axis(orientation='vertic…"
      ]
     },
     "metadata": {},
     "output_type": "display_data"
    }
   ],
   "source": [
    "y_data_2 =  df[\"BOLVT  \"]\n",
    "y_data_3 = df[\"BBL    \"]\n",
    "y_data = df[\"TOTAAL\"]\n",
    "\n",
    "plt.figure(title='STUDENTEN LEERWEG')\n",
    "\n",
    "\n",
    "plt.scatter(y_data_2, y_data_3, color=y_data, stroke='black')\n",
    "plt.show()\n",
    "\n"
   ]
  },
  {
   "cell_type": "code",
   "execution_count": 73,
   "metadata": {},
   "outputs": [
    {
     "data": {
      "application/vnd.jupyter.widget-view+json": {
       "model_id": "4dc6514346134f0ebe152dc9cc9995ef",
       "version_major": 2,
       "version_minor": 0
      },
      "text/plain": [
       "VBox(children=(Figure(axes=[Axis(orientation='vertical', scale=LinearScale()), Axis(scale=LinearScale())], fig…"
      ]
     },
     "metadata": {},
     "output_type": "display_data"
    }
   ],
   "source": [
    "import numpy as np\n",
    "\n",
    "df_instelling = df[df[\"INSTELLINGSNAAM\"]==\"ROC Drenthe College\"].copy()\n",
    "df_instelling.head()\n",
    "x_data = df_instelling[\"INSTELLINGSNAAM\"]\n",
    "# np.cumsum(np.random.randn(size) * 100.0)\n",
    "y_data = np.absolute(df[\"BBL    \"]/ df[\"TOTAAL\"]) * 100\n",
    "\n",
    "plt.figure()\n",
    "plt.hist(y_data, colors=['OrangeRed'])\n",
    "plt.show()"
   ]
  },
  {
   "cell_type": "code",
   "execution_count": 74,
   "metadata": {},
   "outputs": [
    {
     "data": {
      "application/vnd.jupyter.widget-view+json": {
       "model_id": "a4255bf933b146c68e8395e6e349312e",
       "version_major": 2,
       "version_minor": 0
      },
      "text/plain": [
       "VBox(children=(Figure(fig_margin={'top': 60, 'bottom': 60, 'left': 60, 'right': 60}, marks=[Pie(colors=['#1f77…"
      ]
     },
     "metadata": {},
     "output_type": "display_data"
    }
   ],
   "source": [
    "plt.figure()\n",
    "d = abs(df[\"TOTAAL\"][:5])\n",
    "plt.pie(d, labels = [\"2016\",\"2017\",\"2018\",\"2019\",\"2020\"], )\n",
    "plt.show()\n"
   ]
  },
  {
   "cell_type": "code",
   "execution_count": 75,
   "metadata": {},
   "outputs": [
    {
     "data": {
      "application/vnd.jupyter.widget-view+json": {
       "model_id": "441a8a052ca64419abff31ff643c1466",
       "version_major": 2,
       "version_minor": 0
      },
      "text/plain": [
       "VBox(children=(Figure(fig_margin={'top': 60, 'bottom': 60, 'left': 60, 'right': 60}, marks=[Map(hovered_styles…"
      ]
     },
     "metadata": {},
     "output_type": "display_data"
    }
   ],
   "source": [
    "plt.figure()\n",
    "plt.geo(map_data='WorldMap')\n",
    "plt.show()"
   ]
  },
  {
   "cell_type": "code",
   "execution_count": 76,
   "metadata": {},
   "outputs": [
    {
     "data": {
      "text/html": [
       "<div>\n",
       "<style scoped>\n",
       "    .dataframe tbody tr th:only-of-type {\n",
       "        vertical-align: middle;\n",
       "    }\n",
       "\n",
       "    .dataframe tbody tr th {\n",
       "        vertical-align: top;\n",
       "    }\n",
       "\n",
       "    .dataframe thead th {\n",
       "        text-align: right;\n",
       "    }\n",
       "</style>\n",
       "<table border=\"1\" class=\"dataframe\">\n",
       "  <thead>\n",
       "    <tr style=\"text-align: right;\">\n",
       "      <th></th>\n",
       "      <th>CREBO CODE</th>\n",
       "      <th>VOLGNUMMER SBB</th>\n",
       "      <th>DOMEIN MBO CODE</th>\n",
       "      <th>DOMEIN MBO NAAM</th>\n",
       "      <th>HOOFDGROEPCODE SBB</th>\n",
       "      <th>HOOFDGROEPNAAM SBB</th>\n",
       "      <th>SUBGROEPCODE SBB</th>\n",
       "      <th>SUBGROEPNAAM SBB</th>\n",
       "      <th>BEROEPSOPLEIDING CODE SBB</th>\n",
       "      <th>BEROEPSOPLEIDING NAAM SBB</th>\n",
       "      <th>...</th>\n",
       "      <th>LEERWEG MBO</th>\n",
       "      <th>STUDIEBELASTINGSUREN</th>\n",
       "      <th>PRIJSFACTOR MBO</th>\n",
       "      <th>BRIN NUMMER KENNISCENTRUM</th>\n",
       "      <th>NAAM KENNISCENTRUM</th>\n",
       "      <th>MBO SECTOR</th>\n",
       "      <th>SECTORUNITNAAM SBB</th>\n",
       "      <th>STARTDATUM KWALIFICATIE</th>\n",
       "      <th>UITERSTE INSTROOMDATUM</th>\n",
       "      <th>EINDDATUM KWALIFICATIE</th>\n",
       "    </tr>\n",
       "  </thead>\n",
       "  <tbody>\n",
       "    <tr>\n",
       "      <th>0</th>\n",
       "      <td>10001</td>\n",
       "      <td>1329</td>\n",
       "      <td>79080</td>\n",
       "      <td>Handel en ondernemerschap</td>\n",
       "      <td>hg006</td>\n",
       "      <td>Handel en ondernemerschap</td>\n",
       "      <td>sg031</td>\n",
       "      <td>Management en ondernemerschap</td>\n",
       "      <td>bc333</td>\n",
       "      <td>Ondernemerschap retail</td>\n",
       "      <td>...</td>\n",
       "      <td>BO BB</td>\n",
       "      <td>6400</td>\n",
       "      <td>1,1</td>\n",
       "      <td>00SE</td>\n",
       "      <td>Kenniscentrum Handel</td>\n",
       "      <td>economie</td>\n",
       "      <td>Sectorunit handel</td>\n",
       "      <td>19970801</td>\n",
       "      <td>20000801</td>\n",
       "      <td>20040731</td>\n",
       "    </tr>\n",
       "    <tr>\n",
       "      <th>1</th>\n",
       "      <td>10002</td>\n",
       "      <td>1206</td>\n",
       "      <td>79090</td>\n",
       "      <td>Economie en administratie</td>\n",
       "      <td>hg005</td>\n",
       "      <td>Economie en administratie</td>\n",
       "      <td>sg059</td>\n",
       "      <td>Zakelijke dienstverlening</td>\n",
       "      <td>bc388</td>\n",
       "      <td>Commercie</td>\n",
       "      <td>...</td>\n",
       "      <td>BO BB</td>\n",
       "      <td>6400</td>\n",
       "      <td>1,1</td>\n",
       "      <td>00SE</td>\n",
       "      <td>Kenniscentrum Handel</td>\n",
       "      <td>economie</td>\n",
       "      <td>Sectorunit handel</td>\n",
       "      <td>19970801</td>\n",
       "      <td>20120801</td>\n",
       "      <td>20170731</td>\n",
       "    </tr>\n",
       "    <tr>\n",
       "      <th>2</th>\n",
       "      <td>10003</td>\n",
       "      <td>1330</td>\n",
       "      <td>79080</td>\n",
       "      <td>Handel en ondernemerschap</td>\n",
       "      <td>hg006</td>\n",
       "      <td>Handel en ondernemerschap</td>\n",
       "      <td>sg031</td>\n",
       "      <td>Management en ondernemerschap</td>\n",
       "      <td>bc333</td>\n",
       "      <td>Ondernemerschap retail</td>\n",
       "      <td>...</td>\n",
       "      <td>BO BB</td>\n",
       "      <td>6400</td>\n",
       "      <td>1,1</td>\n",
       "      <td>00SE</td>\n",
       "      <td>Kenniscentrum Handel</td>\n",
       "      <td>economie</td>\n",
       "      <td>Sectorunit handel</td>\n",
       "      <td>19970801</td>\n",
       "      <td>20000801</td>\n",
       "      <td>20040731</td>\n",
       "    </tr>\n",
       "    <tr>\n",
       "      <th>3</th>\n",
       "      <td>10004</td>\n",
       "      <td>1331</td>\n",
       "      <td>79080</td>\n",
       "      <td>Handel en ondernemerschap</td>\n",
       "      <td>hg006</td>\n",
       "      <td>Handel en ondernemerschap</td>\n",
       "      <td>sg031</td>\n",
       "      <td>Management en ondernemerschap</td>\n",
       "      <td>bc333</td>\n",
       "      <td>Ondernemerschap retail</td>\n",
       "      <td>...</td>\n",
       "      <td>BO BB</td>\n",
       "      <td>6400</td>\n",
       "      <td>1,1</td>\n",
       "      <td>00SE</td>\n",
       "      <td>Kenniscentrum Handel</td>\n",
       "      <td>economie</td>\n",
       "      <td>Sectorunit handel</td>\n",
       "      <td>19970801</td>\n",
       "      <td>20010801</td>\n",
       "      <td>20050731</td>\n",
       "    </tr>\n",
       "    <tr>\n",
       "      <th>4</th>\n",
       "      <td>10005</td>\n",
       "      <td>1311</td>\n",
       "      <td>79080</td>\n",
       "      <td>Handel en ondernemerschap</td>\n",
       "      <td>hg006</td>\n",
       "      <td>Handel en ondernemerschap</td>\n",
       "      <td>sg031</td>\n",
       "      <td>Management en ondernemerschap</td>\n",
       "      <td>bc313</td>\n",
       "      <td>Management retail</td>\n",
       "      <td>...</td>\n",
       "      <td>BO BB</td>\n",
       "      <td>5600</td>\n",
       "      <td>1,1</td>\n",
       "      <td>00SE</td>\n",
       "      <td>Kenniscentrum Handel</td>\n",
       "      <td>economie</td>\n",
       "      <td>Sectorunit handel</td>\n",
       "      <td>19970801</td>\n",
       "      <td>20000801</td>\n",
       "      <td>20030731</td>\n",
       "    </tr>\n",
       "  </tbody>\n",
       "</table>\n",
       "<p>5 rows × 26 columns</p>\n",
       "</div>"
      ],
      "text/plain": [
       "   CREBO CODE  VOLGNUMMER SBB DOMEIN MBO CODE            DOMEIN MBO NAAM  \\\n",
       "0       10001            1329           79080  Handel en ondernemerschap   \n",
       "1       10002            1206           79090  Economie en administratie   \n",
       "2       10003            1330           79080  Handel en ondernemerschap   \n",
       "3       10004            1331           79080  Handel en ondernemerschap   \n",
       "4       10005            1311           79080  Handel en ondernemerschap   \n",
       "\n",
       "  HOOFDGROEPCODE SBB         HOOFDGROEPNAAM SBB SUBGROEPCODE SBB  \\\n",
       "0              hg006  Handel en ondernemerschap            sg031   \n",
       "1              hg005  Economie en administratie            sg059   \n",
       "2              hg006  Handel en ondernemerschap            sg031   \n",
       "3              hg006  Handel en ondernemerschap            sg031   \n",
       "4              hg006  Handel en ondernemerschap            sg031   \n",
       "\n",
       "                SUBGROEPNAAM SBB BEROEPSOPLEIDING CODE SBB  \\\n",
       "0  Management en ondernemerschap                     bc333   \n",
       "1      Zakelijke dienstverlening                     bc388   \n",
       "2  Management en ondernemerschap                     bc333   \n",
       "3  Management en ondernemerschap                     bc333   \n",
       "4  Management en ondernemerschap                     bc313   \n",
       "\n",
       "  BEROEPSOPLEIDING NAAM SBB  ... LEERWEG MBO STUDIEBELASTINGSUREN  \\\n",
       "0    Ondernemerschap retail  ...       BO BB                 6400   \n",
       "1                 Commercie  ...       BO BB                 6400   \n",
       "2    Ondernemerschap retail  ...       BO BB                 6400   \n",
       "3    Ondernemerschap retail  ...       BO BB                 6400   \n",
       "4         Management retail  ...       BO BB                 5600   \n",
       "\n",
       "  PRIJSFACTOR MBO BRIN NUMMER KENNISCENTRUM    NAAM KENNISCENTRUM MBO SECTOR  \\\n",
       "0             1,1                      00SE  Kenniscentrum Handel   economie   \n",
       "1             1,1                      00SE  Kenniscentrum Handel   economie   \n",
       "2             1,1                      00SE  Kenniscentrum Handel   economie   \n",
       "3             1,1                      00SE  Kenniscentrum Handel   economie   \n",
       "4             1,1                      00SE  Kenniscentrum Handel   economie   \n",
       "\n",
       "  SECTORUNITNAAM SBB  STARTDATUM KWALIFICATIE UITERSTE INSTROOMDATUM  \\\n",
       "0  Sectorunit handel                 19970801               20000801   \n",
       "1  Sectorunit handel                 19970801               20120801   \n",
       "2  Sectorunit handel                 19970801               20000801   \n",
       "3  Sectorunit handel                 19970801               20010801   \n",
       "4  Sectorunit handel                 19970801               20000801   \n",
       "\n",
       "  EINDDATUM KWALIFICATIE  \n",
       "0               20040731  \n",
       "1               20170731  \n",
       "2               20040731  \n",
       "3               20050731  \n",
       "4               20030731  \n",
       "\n",
       "[5 rows x 26 columns]"
      ]
     },
     "execution_count": 76,
     "metadata": {},
     "output_type": "execute_result"
    }
   ],
   "source": [
    "df = pd.read_csv('https://duo.nl/open_onderwijsdata/images/02-combinatie-crebo-en-beroep-2020-2021.csv',sep=';',encoding=\"latin\")\n",
    "df.head()\n"
   ]
  },
  {
   "cell_type": "code",
   "execution_count": 77,
   "metadata": {},
   "outputs": [
    {
     "data": {
      "text/html": [
       "<div>\n",
       "<style scoped>\n",
       "    .dataframe tbody tr th:only-of-type {\n",
       "        vertical-align: middle;\n",
       "    }\n",
       "\n",
       "    .dataframe tbody tr th {\n",
       "        vertical-align: top;\n",
       "    }\n",
       "\n",
       "    .dataframe thead th {\n",
       "        text-align: right;\n",
       "    }\n",
       "</style>\n",
       "<table border=\"1\" class=\"dataframe\">\n",
       "  <thead>\n",
       "    <tr style=\"text-align: right;\">\n",
       "      <th></th>\n",
       "      <th>CREBO CODE</th>\n",
       "      <th>VOLGNUMMER SBB</th>\n",
       "      <th>DOMEIN MBO CODE</th>\n",
       "      <th>DOMEIN MBO NAAM</th>\n",
       "      <th>HOOFDGROEPCODE SBB</th>\n",
       "      <th>HOOFDGROEPNAAM SBB</th>\n",
       "      <th>SUBGROEPCODE SBB</th>\n",
       "      <th>SUBGROEPNAAM SBB</th>\n",
       "      <th>BEROEPSOPLEIDING CODE SBB</th>\n",
       "      <th>BEROEPSOPLEIDING NAAM SBB</th>\n",
       "      <th>...</th>\n",
       "      <th>LEERWEG MBO</th>\n",
       "      <th>STUDIEBELASTINGSUREN</th>\n",
       "      <th>PRIJSFACTOR MBO</th>\n",
       "      <th>BRIN NUMMER KENNISCENTRUM</th>\n",
       "      <th>NAAM KENNISCENTRUM</th>\n",
       "      <th>MBO SECTOR</th>\n",
       "      <th>SECTORUNITNAAM SBB</th>\n",
       "      <th>STARTDATUM KWALIFICATIE</th>\n",
       "      <th>UITERSTE INSTROOMDATUM</th>\n",
       "      <th>EINDDATUM KWALIFICATIE</th>\n",
       "    </tr>\n",
       "  </thead>\n",
       "  <tbody>\n",
       "    <tr>\n",
       "      <th>3426</th>\n",
       "      <td>95110</td>\n",
       "      <td>2040</td>\n",
       "      <td>79060</td>\n",
       "      <td>Mobiliteit en voertuigen</td>\n",
       "      <td>hg010</td>\n",
       "      <td>Mobiliteit en voertuigen</td>\n",
       "      <td>sg034</td>\n",
       "      <td>Mobiliteitstechniek</td>\n",
       "      <td>bc387</td>\n",
       "      <td>Fietstechniek</td>\n",
       "      <td>...</td>\n",
       "      <td>BO BB</td>\n",
       "      <td>4800</td>\n",
       "      <td>1,4</td>\n",
       "      <td>02FZ</td>\n",
       "      <td>Innovam Groep</td>\n",
       "      <td>techniek</td>\n",
       "      <td>Sectorunit mobiliteit, transport, logistiek, m...</td>\n",
       "      <td>20100801</td>\n",
       "      <td>20120801</td>\n",
       "      <td>20160731</td>\n",
       "    </tr>\n",
       "    <tr>\n",
       "      <th>2401</th>\n",
       "      <td>90461</td>\n",
       "      <td>1097</td>\n",
       "      <td>79090</td>\n",
       "      <td>Economie en administratie</td>\n",
       "      <td>hg005</td>\n",
       "      <td>Economie en administratie</td>\n",
       "      <td>sg001</td>\n",
       "      <td>Administratieve dienstverlening</td>\n",
       "      <td>bc299</td>\n",
       "      <td>Financieel administratieve beroepen</td>\n",
       "      <td>...</td>\n",
       "      <td>BO BB</td>\n",
       "      <td>6400</td>\n",
       "      <td>1</td>\n",
       "      <td>00SP</td>\n",
       "      <td>ECABO</td>\n",
       "      <td>economie</td>\n",
       "      <td>Sectorunit zakelijke dienstverlening en veilig...</td>\n",
       "      <td>20050801</td>\n",
       "      <td>20120801</td>\n",
       "      <td>20170731</td>\n",
       "    </tr>\n",
       "    <tr>\n",
       "      <th>3460</th>\n",
       "      <td>95312</td>\n",
       "      <td>1644</td>\n",
       "      <td>79050</td>\n",
       "      <td>Informatie en communicatietechnologie</td>\n",
       "      <td>hg008</td>\n",
       "      <td>Informatie en communicatietechnologie</td>\n",
       "      <td>sg023</td>\n",
       "      <td>ICT en media</td>\n",
       "      <td>bc425</td>\n",
       "      <td>Software development</td>\n",
       "      <td>...</td>\n",
       "      <td>BO BB</td>\n",
       "      <td>6400</td>\n",
       "      <td>1,4</td>\n",
       "      <td>02PT</td>\n",
       "      <td>Kenniscentrum GOC</td>\n",
       "      <td>techniek</td>\n",
       "      <td>Sectorunit creatieve industrie en ICT</td>\n",
       "      <td>20110801</td>\n",
       "      <td>20160801</td>\n",
       "      <td>20220731</td>\n",
       "    </tr>\n",
       "    <tr>\n",
       "      <th>1692</th>\n",
       "      <td>25212</td>\n",
       "      <td>1851</td>\n",
       "      <td>79040</td>\n",
       "      <td>Media en vormgeving</td>\n",
       "      <td>hg009</td>\n",
       "      <td>Media en vormgeving</td>\n",
       "      <td>sg043</td>\n",
       "      <td>Ruimtelijke vormgeving</td>\n",
       "      <td>bc362</td>\n",
       "      <td>Ruimtelijke vormgeving</td>\n",
       "      <td>...</td>\n",
       "      <td>BO BB</td>\n",
       "      <td>6400</td>\n",
       "      <td>1,4</td>\n",
       "      <td>02FW</td>\n",
       "      <td>Savantis</td>\n",
       "      <td>techniek</td>\n",
       "      <td>Sectorunit creatieve industrie en ICT</td>\n",
       "      <td>20150801</td>\n",
       "      <td>0</td>\n",
       "      <td>0</td>\n",
       "    </tr>\n",
       "    <tr>\n",
       "      <th>1515</th>\n",
       "      <td>25033</td>\n",
       "      <td>192</td>\n",
       "      <td>79010</td>\n",
       "      <td>Afbouw, hout en onderhoud</td>\n",
       "      <td>hg001</td>\n",
       "      <td>Afbouw, hout en onderhoud</td>\n",
       "      <td>sg047</td>\n",
       "      <td>Schoonmaak en glazenwassen</td>\n",
       "      <td>bc345</td>\n",
       "      <td>Schoonmaak en glazenwassen</td>\n",
       "      <td>...</td>\n",
       "      <td>BO BB</td>\n",
       "      <td>3200</td>\n",
       "      <td>1,4</td>\n",
       "      <td>02FW</td>\n",
       "      <td>Savantis</td>\n",
       "      <td>economie</td>\n",
       "      <td>Sectorunit voedsel, groen en gastvrijheid</td>\n",
       "      <td>20150801</td>\n",
       "      <td>0</td>\n",
       "      <td>0</td>\n",
       "    </tr>\n",
       "    <tr>\n",
       "      <th>538</th>\n",
       "      <td>10539</td>\n",
       "      <td>372</td>\n",
       "      <td>79020</td>\n",
       "      <td>Techniek en procesindustrie</td>\n",
       "      <td>hg002</td>\n",
       "      <td>Entree</td>\n",
       "      <td>sg061</td>\n",
       "      <td>Entree</td>\n",
       "      <td>bc365</td>\n",
       "      <td>Entree</td>\n",
       "      <td>...</td>\n",
       "      <td>BO BB</td>\n",
       "      <td>1600</td>\n",
       "      <td>1,2</td>\n",
       "      <td>02PR</td>\n",
       "      <td>Kenteq</td>\n",
       "      <td>techniek</td>\n",
       "      <td>Bovensectoraal</td>\n",
       "      <td>19970801</td>\n",
       "      <td>20120801</td>\n",
       "      <td>20140731</td>\n",
       "    </tr>\n",
       "    <tr>\n",
       "      <th>850</th>\n",
       "      <td>10874</td>\n",
       "      <td>3051</td>\n",
       "      <td>79100</td>\n",
       "      <td>Veiligheid en sport</td>\n",
       "      <td>hg015</td>\n",
       "      <td>Veiligheid en sport</td>\n",
       "      <td>sg048</td>\n",
       "      <td>Sport en bewegen</td>\n",
       "      <td>bc350</td>\n",
       "      <td>Sport en bewegen</td>\n",
       "      <td>...</td>\n",
       "      <td>BO BB</td>\n",
       "      <td>6400</td>\n",
       "      <td>1,5</td>\n",
       "      <td>02QG</td>\n",
       "      <td>Calibris</td>\n",
       "      <td>zorg en welzijn</td>\n",
       "      <td>Sectorunit zorg, welzijn en sport</td>\n",
       "      <td>20020801</td>\n",
       "      <td>20120801</td>\n",
       "      <td>20170731</td>\n",
       "    </tr>\n",
       "  </tbody>\n",
       "</table>\n",
       "<p>7 rows × 26 columns</p>\n",
       "</div>"
      ],
      "text/plain": [
       "      CREBO CODE  VOLGNUMMER SBB DOMEIN MBO CODE  \\\n",
       "3426       95110            2040           79060   \n",
       "2401       90461            1097           79090   \n",
       "3460       95312            1644           79050   \n",
       "1692       25212            1851           79040   \n",
       "1515       25033             192           79010   \n",
       "538        10539             372           79020   \n",
       "850        10874            3051           79100   \n",
       "\n",
       "                            DOMEIN MBO NAAM HOOFDGROEPCODE SBB  \\\n",
       "3426               Mobiliteit en voertuigen              hg010   \n",
       "2401              Economie en administratie              hg005   \n",
       "3460  Informatie en communicatietechnologie              hg008   \n",
       "1692                    Media en vormgeving              hg009   \n",
       "1515              Afbouw, hout en onderhoud              hg001   \n",
       "538             Techniek en procesindustrie              hg002   \n",
       "850                     Veiligheid en sport              hg015   \n",
       "\n",
       "                         HOOFDGROEPNAAM SBB SUBGROEPCODE SBB  \\\n",
       "3426               Mobiliteit en voertuigen            sg034   \n",
       "2401              Economie en administratie            sg001   \n",
       "3460  Informatie en communicatietechnologie            sg023   \n",
       "1692                    Media en vormgeving            sg043   \n",
       "1515              Afbouw, hout en onderhoud            sg047   \n",
       "538                                  Entree            sg061   \n",
       "850                     Veiligheid en sport            sg048   \n",
       "\n",
       "                     SUBGROEPNAAM SBB BEROEPSOPLEIDING CODE SBB  \\\n",
       "3426              Mobiliteitstechniek                     bc387   \n",
       "2401  Administratieve dienstverlening                     bc299   \n",
       "3460                     ICT en media                     bc425   \n",
       "1692           Ruimtelijke vormgeving                     bc362   \n",
       "1515       Schoonmaak en glazenwassen                     bc345   \n",
       "538                            Entree                     bc365   \n",
       "850                  Sport en bewegen                     bc350   \n",
       "\n",
       "                BEROEPSOPLEIDING NAAM SBB  ... LEERWEG MBO  \\\n",
       "3426                        Fietstechniek  ...       BO BB   \n",
       "2401  Financieel administratieve beroepen  ...       BO BB   \n",
       "3460                 Software development  ...       BO BB   \n",
       "1692               Ruimtelijke vormgeving  ...       BO BB   \n",
       "1515           Schoonmaak en glazenwassen  ...       BO BB   \n",
       "538                                Entree  ...       BO BB   \n",
       "850                      Sport en bewegen  ...       BO BB   \n",
       "\n",
       "     STUDIEBELASTINGSUREN PRIJSFACTOR MBO BRIN NUMMER KENNISCENTRUM  \\\n",
       "3426                 4800             1,4                      02FZ   \n",
       "2401                 6400               1                      00SP   \n",
       "3460                 6400             1,4                      02PT   \n",
       "1692                 6400             1,4                      02FW   \n",
       "1515                 3200             1,4                      02FW   \n",
       "538                  1600             1,2                      02PR   \n",
       "850                  6400             1,5                      02QG   \n",
       "\n",
       "     NAAM KENNISCENTRUM       MBO SECTOR  \\\n",
       "3426      Innovam Groep         techniek   \n",
       "2401              ECABO         economie   \n",
       "3460  Kenniscentrum GOC         techniek   \n",
       "1692           Savantis         techniek   \n",
       "1515           Savantis         economie   \n",
       "538              Kenteq         techniek   \n",
       "850            Calibris  zorg en welzijn   \n",
       "\n",
       "                                     SECTORUNITNAAM SBB  \\\n",
       "3426  Sectorunit mobiliteit, transport, logistiek, m...   \n",
       "2401  Sectorunit zakelijke dienstverlening en veilig...   \n",
       "3460              Sectorunit creatieve industrie en ICT   \n",
       "1692              Sectorunit creatieve industrie en ICT   \n",
       "1515          Sectorunit voedsel, groen en gastvrijheid   \n",
       "538                                      Bovensectoraal   \n",
       "850                   Sectorunit zorg, welzijn en sport   \n",
       "\n",
       "      STARTDATUM KWALIFICATIE UITERSTE INSTROOMDATUM EINDDATUM KWALIFICATIE  \n",
       "3426                 20100801               20120801               20160731  \n",
       "2401                 20050801               20120801               20170731  \n",
       "3460                 20110801               20160801               20220731  \n",
       "1692                 20150801                      0                      0  \n",
       "1515                 20150801                      0                      0  \n",
       "538                  19970801               20120801               20140731  \n",
       "850                  20020801               20120801               20170731  \n",
       "\n",
       "[7 rows x 26 columns]"
      ]
     },
     "execution_count": 77,
     "metadata": {},
     "output_type": "execute_result"
    }
   ],
   "source": [
    "df.sample(7)"
   ]
  },
  {
   "cell_type": "code",
   "execution_count": 78,
   "metadata": {},
   "outputs": [
    {
     "data": {
      "text/html": [
       "<div>\n",
       "<style scoped>\n",
       "    .dataframe tbody tr th:only-of-type {\n",
       "        vertical-align: middle;\n",
       "    }\n",
       "\n",
       "    .dataframe tbody tr th {\n",
       "        vertical-align: top;\n",
       "    }\n",
       "\n",
       "    .dataframe thead th {\n",
       "        text-align: right;\n",
       "    }\n",
       "</style>\n",
       "<table border=\"1\" class=\"dataframe\">\n",
       "  <thead>\n",
       "    <tr style=\"text-align: right;\">\n",
       "      <th></th>\n",
       "      <th>BRINNUMMER</th>\n",
       "      <th>SCHOOLNAAM</th>\n",
       "      <th>ADRES SCHOOL</th>\n",
       "      <th>POSTCODE SCHOOL</th>\n",
       "      <th>PLAATS SCHOOL</th>\n",
       "      <th>CREBONUMMER</th>\n",
       "      <th>LEERWEG</th>\n",
       "      <th>SOORT OPLEIDING</th>\n",
       "      <th>NAAM OPLEIDING</th>\n",
       "      <th>DATUM INGANG GOEDKEURING</th>\n",
       "    </tr>\n",
       "  </thead>\n",
       "  <tbody>\n",
       "    <tr>\n",
       "      <th>0</th>\n",
       "      <td>00GT</td>\n",
       "      <td>Stichting Albeda</td>\n",
       "      <td>Rosestraat 1101</td>\n",
       "      <td>3071 AL</td>\n",
       "      <td>ROTTERDAM</td>\n",
       "      <td>25134</td>\n",
       "      <td>OVO</td>\n",
       "      <td>vakopleiding</td>\n",
       "      <td>Commercieel medewerker</td>\n",
       "      <td>2021-08-01</td>\n",
       "    </tr>\n",
       "    <tr>\n",
       "      <th>1</th>\n",
       "      <td>00GT</td>\n",
       "      <td>Stichting Albeda</td>\n",
       "      <td>Rosestraat 1101</td>\n",
       "      <td>3071 AL</td>\n",
       "      <td>ROTTERDAM</td>\n",
       "      <td>25149</td>\n",
       "      <td>OVO</td>\n",
       "      <td>basisberoepsopleiding</td>\n",
       "      <td>Medewerker (financiële) administratie</td>\n",
       "      <td>2019-09-01</td>\n",
       "    </tr>\n",
       "    <tr>\n",
       "      <th>2</th>\n",
       "      <td>00GT</td>\n",
       "      <td>Stichting Albeda</td>\n",
       "      <td>Rosestraat 1101</td>\n",
       "      <td>3071 AL</td>\n",
       "      <td>ROTTERDAM</td>\n",
       "      <td>25150</td>\n",
       "      <td>OVO</td>\n",
       "      <td>basisberoepsopleiding</td>\n",
       "      <td>Medewerker secretariaat en receptie</td>\n",
       "      <td>2019-09-01</td>\n",
       "    </tr>\n",
       "    <tr>\n",
       "      <th>3</th>\n",
       "      <td>00GT</td>\n",
       "      <td>Stichting Albeda</td>\n",
       "      <td>Rosestraat 1101</td>\n",
       "      <td>3071 AL</td>\n",
       "      <td>ROTTERDAM</td>\n",
       "      <td>25159</td>\n",
       "      <td>OVO</td>\n",
       "      <td>basisberoepsopleiding</td>\n",
       "      <td>Basismedewerker mode</td>\n",
       "      <td>2019-09-01</td>\n",
       "    </tr>\n",
       "    <tr>\n",
       "      <th>4</th>\n",
       "      <td>00GT</td>\n",
       "      <td>Stichting Albeda</td>\n",
       "      <td>Rosestraat 1101</td>\n",
       "      <td>3071 AL</td>\n",
       "      <td>ROTTERDAM</td>\n",
       "      <td>25167</td>\n",
       "      <td>OVO</td>\n",
       "      <td>basisberoepsopleiding</td>\n",
       "      <td>Verkoper</td>\n",
       "      <td>2019-09-01</td>\n",
       "    </tr>\n",
       "  </tbody>\n",
       "</table>\n",
       "</div>"
      ],
      "text/plain": [
       "  BRINNUMMER        SCHOOLNAAM     ADRES SCHOOL POSTCODE SCHOOL PLAATS SCHOOL  \\\n",
       "0       00GT  Stichting Albeda  Rosestraat 1101         3071 AL     ROTTERDAM   \n",
       "1       00GT  Stichting Albeda  Rosestraat 1101         3071 AL     ROTTERDAM   \n",
       "2       00GT  Stichting Albeda  Rosestraat 1101         3071 AL     ROTTERDAM   \n",
       "3       00GT  Stichting Albeda  Rosestraat 1101         3071 AL     ROTTERDAM   \n",
       "4       00GT  Stichting Albeda  Rosestraat 1101         3071 AL     ROTTERDAM   \n",
       "\n",
       "   CREBONUMMER LEERWEG        SOORT OPLEIDING  \\\n",
       "0        25134     OVO           vakopleiding   \n",
       "1        25149     OVO  basisberoepsopleiding   \n",
       "2        25150     OVO  basisberoepsopleiding   \n",
       "3        25159     OVO  basisberoepsopleiding   \n",
       "4        25167     OVO  basisberoepsopleiding   \n",
       "\n",
       "                          NAAM OPLEIDING DATUM INGANG GOEDKEURING  \n",
       "0                 Commercieel medewerker               2021-08-01  \n",
       "1  Medewerker (financiële) administratie               2019-09-01  \n",
       "2    Medewerker secretariaat en receptie               2019-09-01  \n",
       "3                   Basismedewerker mode               2019-09-01  \n",
       "4                               Verkoper               2019-09-01  "
      ]
     },
     "execution_count": 78,
     "metadata": {},
     "output_type": "execute_result"
    }
   ],
   "source": [
    "df = pd.read_excel(r'https://duo.nl/open_onderwijsdata/images/03-erkende-niet-bekostigde-opleidingen.xlsx')\n",
    "df.head()\n",
    "\n",
    "\n",
    "# https://duo.nl/open_onderwijsdata/images/2021-kwaliteitsafspraken-per-instelling.xlsx"
   ]
  },
  {
   "cell_type": "code",
   "execution_count": 79,
   "metadata": {},
   "outputs": [
    {
     "data": {
      "text/html": [
       "<div>\n",
       "<style scoped>\n",
       "    .dataframe tbody tr th:only-of-type {\n",
       "        vertical-align: middle;\n",
       "    }\n",
       "\n",
       "    .dataframe tbody tr th {\n",
       "        vertical-align: top;\n",
       "    }\n",
       "\n",
       "    .dataframe thead th {\n",
       "        text-align: right;\n",
       "    }\n",
       "</style>\n",
       "<table border=\"1\" class=\"dataframe\">\n",
       "  <thead>\n",
       "    <tr style=\"text-align: right;\">\n",
       "      <th></th>\n",
       "      <th>SCHOOLNAAM</th>\n",
       "      <th>NAAM OPLEIDING</th>\n",
       "      <th>CREBONUMMER</th>\n",
       "    </tr>\n",
       "  </thead>\n",
       "  <tbody>\n",
       "    <tr>\n",
       "      <th>0</th>\n",
       "      <td>Stichting Albeda</td>\n",
       "      <td>Commercieel medewerker</td>\n",
       "      <td>25134</td>\n",
       "    </tr>\n",
       "    <tr>\n",
       "      <th>1</th>\n",
       "      <td>Stichting Albeda</td>\n",
       "      <td>Medewerker (financiële) administratie</td>\n",
       "      <td>25149</td>\n",
       "    </tr>\n",
       "    <tr>\n",
       "      <th>2</th>\n",
       "      <td>Stichting Albeda</td>\n",
       "      <td>Medewerker secretariaat en receptie</td>\n",
       "      <td>25150</td>\n",
       "    </tr>\n",
       "    <tr>\n",
       "      <th>3</th>\n",
       "      <td>Stichting Albeda</td>\n",
       "      <td>Basismedewerker mode</td>\n",
       "      <td>25159</td>\n",
       "    </tr>\n",
       "    <tr>\n",
       "      <th>4</th>\n",
       "      <td>Stichting Albeda</td>\n",
       "      <td>Verkoper</td>\n",
       "      <td>25167</td>\n",
       "    </tr>\n",
       "    <tr>\n",
       "      <th>5</th>\n",
       "      <td>Stichting Albeda</td>\n",
       "      <td>Gastheer/-vrouw</td>\n",
       "      <td>25168</td>\n",
       "    </tr>\n",
       "    <tr>\n",
       "      <th>6</th>\n",
       "      <td>Stichting Albeda</td>\n",
       "      <td>Uitvoerend bakker</td>\n",
       "      <td>25173</td>\n",
       "    </tr>\n",
       "    <tr>\n",
       "      <th>7</th>\n",
       "      <td>Stichting Albeda</td>\n",
       "      <td>Kok</td>\n",
       "      <td>25180</td>\n",
       "    </tr>\n",
       "    <tr>\n",
       "      <th>8</th>\n",
       "      <td>Stichting Albeda</td>\n",
       "      <td>Assistent bouwen, wonen en onderhoud</td>\n",
       "      <td>25250</td>\n",
       "    </tr>\n",
       "    <tr>\n",
       "      <th>9</th>\n",
       "      <td>Stichting Albeda</td>\n",
       "      <td>Assistent dienstverlening en zorg</td>\n",
       "      <td>25251</td>\n",
       "    </tr>\n",
       "    <tr>\n",
       "      <th>10</th>\n",
       "      <td>Stichting Albeda</td>\n",
       "      <td>Assistent horeca, voeding of voedingsindustrie</td>\n",
       "      <td>25252</td>\n",
       "    </tr>\n",
       "    <tr>\n",
       "      <th>11</th>\n",
       "      <td>Stichting Albeda</td>\n",
       "      <td>Assistent installatie- en constructietechniek</td>\n",
       "      <td>25253</td>\n",
       "    </tr>\n",
       "    <tr>\n",
       "      <th>12</th>\n",
       "      <td>Stichting Albeda</td>\n",
       "      <td>Assistent logistiek</td>\n",
       "      <td>25254</td>\n",
       "    </tr>\n",
       "    <tr>\n",
       "      <th>13</th>\n",
       "      <td>Stichting Albeda</td>\n",
       "      <td>Assistent mobiliteitsbranche</td>\n",
       "      <td>25255</td>\n",
       "    </tr>\n",
       "    <tr>\n",
       "      <th>14</th>\n",
       "      <td>Stichting Albeda</td>\n",
       "      <td>Assistent verkoop/retail</td>\n",
       "      <td>25257</td>\n",
       "    </tr>\n",
       "    <tr>\n",
       "      <th>15</th>\n",
       "      <td>Stichting Albeda</td>\n",
       "      <td>Logistiek medewerker</td>\n",
       "      <td>25371</td>\n",
       "    </tr>\n",
       "    <tr>\n",
       "      <th>16</th>\n",
       "      <td>Stichting Albeda</td>\n",
       "      <td>Allround Schoonheidsspecialist</td>\n",
       "      <td>25403</td>\n",
       "    </tr>\n",
       "    <tr>\n",
       "      <th>17</th>\n",
       "      <td>Stichting Albeda</td>\n",
       "      <td>Schoonheidsspecialist</td>\n",
       "      <td>25404</td>\n",
       "    </tr>\n",
       "    <tr>\n",
       "      <th>18</th>\n",
       "      <td>Stichting Albeda</td>\n",
       "      <td>Beveiliger</td>\n",
       "      <td>25407</td>\n",
       "    </tr>\n",
       "    <tr>\n",
       "      <th>19</th>\n",
       "      <td>Stichting Albeda</td>\n",
       "      <td>Agogisch medewerker GGZ</td>\n",
       "      <td>25474</td>\n",
       "    </tr>\n",
       "    <tr>\n",
       "      <th>20</th>\n",
       "      <td>Stichting Albeda</td>\n",
       "      <td>Begeleider gehandicaptenzorg</td>\n",
       "      <td>25475</td>\n",
       "    </tr>\n",
       "    <tr>\n",
       "      <th>21</th>\n",
       "      <td>Stichting Albeda</td>\n",
       "      <td>Begeleider specifieke doelgroepen</td>\n",
       "      <td>25476</td>\n",
       "    </tr>\n",
       "    <tr>\n",
       "      <th>22</th>\n",
       "      <td>Stichting Albeda</td>\n",
       "      <td>Persoonlijk begeleider gehandicaptenzorg</td>\n",
       "      <td>25477</td>\n",
       "    </tr>\n",
       "    <tr>\n",
       "      <th>23</th>\n",
       "      <td>Stichting Albeda</td>\n",
       "      <td>Persoonlijk begeleider specifieke doelgroepen</td>\n",
       "      <td>25478</td>\n",
       "    </tr>\n",
       "    <tr>\n",
       "      <th>24</th>\n",
       "      <td>Stichting Albeda</td>\n",
       "      <td>Thuisbegeleider</td>\n",
       "      <td>25479</td>\n",
       "    </tr>\n",
       "    <tr>\n",
       "      <th>25</th>\n",
       "      <td>Stichting Albeda</td>\n",
       "      <td>Gespecialiseerd pedagogisch medewerker</td>\n",
       "      <td>25484</td>\n",
       "    </tr>\n",
       "    <tr>\n",
       "      <th>26</th>\n",
       "      <td>Stichting Albeda</td>\n",
       "      <td>Pedagogisch medewerker kinderopvang</td>\n",
       "      <td>25486</td>\n",
       "    </tr>\n",
       "    <tr>\n",
       "      <th>27</th>\n",
       "      <td>Stichting Albeda</td>\n",
       "      <td>Helpende Zorg en Welzijn</td>\n",
       "      <td>25498</td>\n",
       "    </tr>\n",
       "    <tr>\n",
       "      <th>28</th>\n",
       "      <td>Stichting Albeda</td>\n",
       "      <td>Medewerker facilitaire dienstverlening</td>\n",
       "      <td>25499</td>\n",
       "    </tr>\n",
       "    <tr>\n",
       "      <th>29</th>\n",
       "      <td>Stichting Albeda</td>\n",
       "      <td>Medewerker sport en recreatie</td>\n",
       "      <td>25500</td>\n",
       "    </tr>\n",
       "    <tr>\n",
       "      <th>30</th>\n",
       "      <td>Stichting Albeda</td>\n",
       "      <td></td>\n",
       "      <td>25642</td>\n",
       "    </tr>\n",
       "    <tr>\n",
       "      <th>31</th>\n",
       "      <td>Stichting Albeda</td>\n",
       "      <td></td>\n",
       "      <td>25643</td>\n",
       "    </tr>\n",
       "    <tr>\n",
       "      <th>32</th>\n",
       "      <td>Stichting Albeda</td>\n",
       "      <td></td>\n",
       "      <td>25644</td>\n",
       "    </tr>\n",
       "    <tr>\n",
       "      <th>33</th>\n",
       "      <td>Stichting Albeda</td>\n",
       "      <td></td>\n",
       "      <td>25645</td>\n",
       "    </tr>\n",
       "    <tr>\n",
       "      <th>34</th>\n",
       "      <td>Stichting Albeda</td>\n",
       "      <td></td>\n",
       "      <td>25656</td>\n",
       "    </tr>\n",
       "    <tr>\n",
       "      <th>35</th>\n",
       "      <td>Stichting Albeda</td>\n",
       "      <td></td>\n",
       "      <td>25694</td>\n",
       "    </tr>\n",
       "    <tr>\n",
       "      <th>36</th>\n",
       "      <td>Stichting Albeda</td>\n",
       "      <td>Servicemedewerker</td>\n",
       "      <td>26007</td>\n",
       "    </tr>\n",
       "    <tr>\n",
       "      <th>37</th>\n",
       "      <td>Stichting Albeda</td>\n",
       "      <td>Servicemedewerker</td>\n",
       "      <td>26007</td>\n",
       "    </tr>\n",
       "    <tr>\n",
       "      <th>38</th>\n",
       "      <td>Stichting Albeda</td>\n",
       "      <td>Eventproducer</td>\n",
       "      <td>26014</td>\n",
       "    </tr>\n",
       "    <tr>\n",
       "      <th>39</th>\n",
       "      <td>Stichting Albeda</td>\n",
       "      <td></td>\n",
       "      <td>26040</td>\n",
       "    </tr>\n",
       "    <tr>\n",
       "      <th>40</th>\n",
       "      <td>Stichting Albeda</td>\n",
       "      <td>Apothekersassistent</td>\n",
       "      <td>91300</td>\n",
       "    </tr>\n",
       "    <tr>\n",
       "      <th>41</th>\n",
       "      <td>Stichting Albeda</td>\n",
       "      <td>Doktersassistent</td>\n",
       "      <td>91310</td>\n",
       "    </tr>\n",
       "    <tr>\n",
       "      <th>42</th>\n",
       "      <td>Stichting Albeda</td>\n",
       "      <td>Gespecialiseerd Pedagogisch medewerker 4  kind...</td>\n",
       "      <td>92632</td>\n",
       "    </tr>\n",
       "  </tbody>\n",
       "</table>\n",
       "</div>"
      ],
      "text/plain": [
       "          SCHOOLNAAM                                     NAAM OPLEIDING  \\\n",
       "0   Stichting Albeda                             Commercieel medewerker   \n",
       "1   Stichting Albeda              Medewerker (financiële) administratie   \n",
       "2   Stichting Albeda                Medewerker secretariaat en receptie   \n",
       "3   Stichting Albeda                               Basismedewerker mode   \n",
       "4   Stichting Albeda                                           Verkoper   \n",
       "5   Stichting Albeda                                    Gastheer/-vrouw   \n",
       "6   Stichting Albeda                                  Uitvoerend bakker   \n",
       "7   Stichting Albeda                                                Kok   \n",
       "8   Stichting Albeda               Assistent bouwen, wonen en onderhoud   \n",
       "9   Stichting Albeda                  Assistent dienstverlening en zorg   \n",
       "10  Stichting Albeda     Assistent horeca, voeding of voedingsindustrie   \n",
       "11  Stichting Albeda      Assistent installatie- en constructietechniek   \n",
       "12  Stichting Albeda                                Assistent logistiek   \n",
       "13  Stichting Albeda                       Assistent mobiliteitsbranche   \n",
       "14  Stichting Albeda                           Assistent verkoop/retail   \n",
       "15  Stichting Albeda                               Logistiek medewerker   \n",
       "16  Stichting Albeda                     Allround Schoonheidsspecialist   \n",
       "17  Stichting Albeda                              Schoonheidsspecialist   \n",
       "18  Stichting Albeda                                         Beveiliger   \n",
       "19  Stichting Albeda                            Agogisch medewerker GGZ   \n",
       "20  Stichting Albeda                       Begeleider gehandicaptenzorg   \n",
       "21  Stichting Albeda                  Begeleider specifieke doelgroepen   \n",
       "22  Stichting Albeda           Persoonlijk begeleider gehandicaptenzorg   \n",
       "23  Stichting Albeda      Persoonlijk begeleider specifieke doelgroepen   \n",
       "24  Stichting Albeda                                    Thuisbegeleider   \n",
       "25  Stichting Albeda             Gespecialiseerd pedagogisch medewerker   \n",
       "26  Stichting Albeda                Pedagogisch medewerker kinderopvang   \n",
       "27  Stichting Albeda                           Helpende Zorg en Welzijn   \n",
       "28  Stichting Albeda             Medewerker facilitaire dienstverlening   \n",
       "29  Stichting Albeda                      Medewerker sport en recreatie   \n",
       "30  Stichting Albeda                                                      \n",
       "31  Stichting Albeda                                                      \n",
       "32  Stichting Albeda                                                      \n",
       "33  Stichting Albeda                                                      \n",
       "34  Stichting Albeda                                                      \n",
       "35  Stichting Albeda                                                      \n",
       "36  Stichting Albeda                                  Servicemedewerker   \n",
       "37  Stichting Albeda                                  Servicemedewerker   \n",
       "38  Stichting Albeda                                      Eventproducer   \n",
       "39  Stichting Albeda                                                      \n",
       "40  Stichting Albeda                                Apothekersassistent   \n",
       "41  Stichting Albeda                                   Doktersassistent   \n",
       "42  Stichting Albeda  Gespecialiseerd Pedagogisch medewerker 4  kind...   \n",
       "\n",
       "    CREBONUMMER  \n",
       "0         25134  \n",
       "1         25149  \n",
       "2         25150  \n",
       "3         25159  \n",
       "4         25167  \n",
       "5         25168  \n",
       "6         25173  \n",
       "7         25180  \n",
       "8         25250  \n",
       "9         25251  \n",
       "10        25252  \n",
       "11        25253  \n",
       "12        25254  \n",
       "13        25255  \n",
       "14        25257  \n",
       "15        25371  \n",
       "16        25403  \n",
       "17        25404  \n",
       "18        25407  \n",
       "19        25474  \n",
       "20        25475  \n",
       "21        25476  \n",
       "22        25477  \n",
       "23        25478  \n",
       "24        25479  \n",
       "25        25484  \n",
       "26        25486  \n",
       "27        25498  \n",
       "28        25499  \n",
       "29        25500  \n",
       "30        25642  \n",
       "31        25643  \n",
       "32        25644  \n",
       "33        25645  \n",
       "34        25656  \n",
       "35        25694  \n",
       "36        26007  \n",
       "37        26007  \n",
       "38        26014  \n",
       "39        26040  \n",
       "40        91300  \n",
       "41        91310  \n",
       "42        92632  "
      ]
     },
     "execution_count": 79,
     "metadata": {},
     "output_type": "execute_result"
    }
   ],
   "source": [
    "df_albeda = df[df[\"SCHOOLNAAM\"] == \"Stichting Albeda\"].copy()\n",
    "df_albeda[[\"SCHOOLNAAM\",\"NAAM OPLEIDING\", \"CREBONUMMER\"]]"
   ]
  },
  {
   "cell_type": "code",
   "execution_count": 80,
   "metadata": {},
   "outputs": [
    {
     "data": {
      "text/plain": [
       "43"
      ]
     },
     "execution_count": 80,
     "metadata": {},
     "output_type": "execute_result"
    }
   ],
   "source": [
    "opleidingen = df_albeda[\"NAAM OPLEIDING\"]\n",
    "len(opleidingen)"
   ]
  },
  {
   "cell_type": "code",
   "execution_count": null,
   "metadata": {},
   "outputs": [],
   "source": []
  }
 ],
 "metadata": {
  "kernelspec": {
   "display_name": "Python 3 (ipykernel)",
   "language": "python",
   "name": "python3"
  },
  "language_info": {
   "codemirror_mode": {
    "name": "ipython",
    "version": 3
   },
   "file_extension": ".py",
   "mimetype": "text/x-python",
   "name": "python",
   "nbconvert_exporter": "python",
   "pygments_lexer": "ipython3",
   "version": "3.7.12"
  },
  "toc": {
   "base_numbering": 1,
   "nav_menu": {},
   "number_sections": true,
   "sideBar": true,
   "skip_h1_title": false,
   "title_cell": "Table of Contents",
   "title_sidebar": "Contents",
   "toc_cell": true,
   "toc_position": {},
   "toc_section_display": true,
   "toc_window_display": false
  },
  "toc-autonumbering": false,
  "toc-showmarkdowntxt": false,
  "toc-showtags": false,
  "widgets": {
   "application/vnd.jupyter.widget-state+json": {
    "state": {},
    "version_major": 2,
    "version_minor": 0
   }
  }
 },
 "nbformat": 4,
 "nbformat_minor": 4
}
