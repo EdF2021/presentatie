{
 "cells": [
  {
   "cell_type": "markdown",
   "metadata": {
    "slideshow": {
     "slide_type": "slide"
    },
    "tags": []
   },
   "source": [
    "# Het internet als databron # \n",
    "\n",
    "## Introductie webscraping met Jupyter en Python ## \n",
    "[**Ed. de Feber**](mailto:e.defeber@horizoncollege.nl)  \n",
    "ROC Horizon College\n",
    "\n",
    "---"
   ]
  },
  {
   "cell_type": "markdown",
   "metadata": {
    "slideshow": {
     "slide_type": "skip"
    }
   },
   "source": [
    "Ik wil jullie in deze korte introductie WebScraping laten zien hoe je met Jupyter en Python vrij eenvoudig data kan halen uit bestaande bronnen op het internet.\n",
    "\n",
    "Ik heb de introductie als volgt ingedeeld\n",
    "\n"
   ]
  },
  {
   "cell_type": "markdown",
   "metadata": {
    "jp-MarkdownHeadingCollapsed": true,
    "slideshow": {
     "slide_type": "skip"
    },
    "tags": []
   },
   "source": [
    "### 1. Python en Jupyter? ### \n",
    "### 2. WebScraping? It's all about the data ###\n",
    "### 3. Verschillende manieren om data binnen te halen en te gebruiken ###\n",
    "- Bestaande API's gebruiken die vaak door de social networks worden geleverd (Facebook, Twitter, Linked In, ...). Valt buiten deze introductie.\n",
    "- Bestaande Tabellen gebruiken\n",
    "- Content uit nieuwspagina's, Wikipedia, enz binnen halen \n",
    "- Inlezen van openbare bronbestanden, meestal in excel, csv formaat, die aan ons ter beschikking worden gesteld door een derde partij. Keuze uit DUO, CBS, MBO-Raad, SBB, )\n",
    "- Het ontleden van een webpagina of volledige websites, om daar relevante data uit te halen (Stages, Beroepsprofielen, Vacatures, ...)."
   ]
  },
  {
   "cell_type": "markdown",
   "metadata": {
    "slideshow": {
     "slide_type": "skip"
    }
   },
   "source": [
    "## 1. Python en Jupyter ##"
   ]
  },
  {
   "cell_type": "markdown",
   "metadata": {
    "slideshow": {
     "slide_type": "skip"
    }
   },
   "source": [
    "     \n",
    "\n",
    "#### **Python**\n",
    "Een programeertaal dat over het algemeen als de standaard wordt gezien gezien in de wereld van DataScience en AI. Alle grote spelers zoals Google, Spotify, Amazon, Facebook, enz. maken gebruik van Python. Mooi om te vermelden is dat Python in de jaren 90 van de vorige eeuw is bedacht en ontwikkeld door een Nederlander **Guido van Rossem**\n",
    "( ik meen zelfs dat hij op dat moment nog student aan de UvA was ). \n",
    "\n",
    "Vorig jaar is Guido ingelijfd door Microsoft dus het moge duidelijk zijn dat ook Microsoft Python omarmd heeft. "
   ]
  },
  {
   "cell_type": "markdown",
   "metadata": {
    "slideshow": {
     "slide_type": "skip"
    }
   },
   "source": [
    "#### **Jupyter**\n",
    "Is het platform waar jullie nu tegenaan kijken. Het is een zogenaamde NOTEBOOK, en wordt zeer vaak gebruikt door Dataspecialisten om inzichten, resultaten aan opdrachtgevers te presenteren. Een Jupyter notebook kan gedeeld worden op het internet en biedt de mogelijkheid om op 1 plaats data afkomstig van meerdere verschillende bronnen te presenteren. "
   ]
  },
  {
   "cell_type": "markdown",
   "metadata": {
    "slideshow": {
     "slide_type": "skip"
    }
   },
   "source": [
    "**Deze Jupyter notebook wordt met jullie gedeeld op:**\n",
    "\n",
    "[MijnNotebooek](https://www.example.com)\n",
    "\n",
    "---\n",
    "\n"
   ]
  },
  {
   "cell_type": "markdown",
   "metadata": {
    "slideshow": {
     "slide_type": "skip"
    }
   },
   "source": [
    "## 2. WebScraping ##\n",
    "\n",
    "In deze introductie interpreteer ik het begrip Webscraping heel ruim als een verzameling van methoden en technieken om data uit internetbronnen te halen. Van het inlezen van een HTML Tabel die al kant en klaar op een webpagina te vinden is, via het gebruiken van openbare databronnen meestal in Excel of CSV formaat, tot aan het uit een rafelen van een complete website en/of het combineren van dit alles en hierbij data uit meerdere internetsites te combineren. Ik laat dit voor het gemak hier samenvallen onder het begrip WebScraping. \n",
    "\n",
    "En waarom niet? \n",
    "**It's all about the resulting data!**\n",
    "\n",
    "\n"
   ]
  },
  {
   "cell_type": "markdown",
   "metadata": {
    "slideshow": {
     "slide_type": "skip"
    }
   },
   "source": [
    "#### Aan de slag ### \n",
    "\n",
    "1.  **Inlezen en manipuleren van data**\n",
    "2.  **Presenteren en visualiseren van resultaten** "
   ]
  },
  {
   "cell_type": "markdown",
   "metadata": {
    "slideshow": {
     "slide_type": "skip"
    }
   },
   "source": [
    "Bijna altijd als je iets met Python wilt doen maak je gebruik van een of meer bibliotheken. Dat is tevens de grote kracht van **Python**, omdat **voor** praktische **elke situatie** wel **een bibliotheek** te vinden is. Hieronder **importeren** we een aantal bibliotheken* waaronder pandas en matplotlib. Panda is de held als het gaat om statistieken en Matrix rekenen en Matplotlib is de absolute grootheid als het gaat om Grafieken e.d.  \n"
   ]
  },
  {
   "cell_type": "code",
   "execution_count": null,
   "metadata": {
    "slideshow": {
     "slide_type": "slide"
    }
   },
   "outputs": [],
   "source": [
    "!pip install pandas numpy requests_html openpyxl matplotlib bqplot newspaper3k\n",
    "import pandas as pd\n",
    "import requests\n",
    "from requests_html import HTMLSession\n",
    "from ipywidgets import Image\n",
    "# import pyxll\n",
    "import openpyxl\n",
    "\n",
    "%matplotlib inline\n",
    "import ipywidgets as widgets\n",
    "import bqplot.pyplot as plt"
   ]
  },
  {
   "cell_type": "markdown",
   "metadata": {
    "slideshow": {
     "slide_type": "skip"
    }
   },
   "source": [
    "## 3. Verschillende manieren om data binnen te halen en te gebruiken ##"
   ]
  },
  {
   "cell_type": "markdown",
   "metadata": {
    "slideshow": {
     "slide_type": "slide"
    },
    "tags": []
   },
   "source": [
    "### Laten we beginnen met een artikel uit een krant te halen ###\n",
    "\n",
    "**NU.NL**\n",
    "\n",
    "Hiervoor importeer ik bibliotheek newspaper in Python. Deze bibliotheek kan voor praktisch elke nieuwssite gebruikt worden en kent semantische entiteiten als Artikel, Auteur, enz."
   ]
  },
  {
   "cell_type": "markdown",
   "metadata": {
    "slideshow": {
     "slide_type": "slide"
    }
   },
   "source": [
    "### Artikel van nu.nl met \"Newspaper bibliotheek\" ###\n"
   ]
  },
  {
   "cell_type": "code",
   "execution_count": null,
   "metadata": {
    "slideshow": {
     "slide_type": "skip"
    },
    "tags": []
   },
   "outputs": [],
   "source": [
    "from newspaper import Article\n",
    "from requests_html import HTMLSession"
   ]
  },
  {
   "cell_type": "markdown",
   "metadata": {
    "slideshow": {
     "slide_type": "slide"
    }
   },
   "source": [
    "De eerste stap is om tegen Python vertellen welke url ik wil binnen halem. Vervolgs maakt Python daar dan een connectie mee.\n",
    "\n",
    "**Hieronder een artikel dat ik afgelopen zondag vond**"
   ]
  },
  {
   "cell_type": "markdown",
   "metadata": {
    "slideshow": {
     "slide_type": "slide"
    }
   },
   "source": [
    "![alt text](./images/nunl3.png \"nu.nl afgelopen zondag\")"
   ]
  },
  {
   "cell_type": "markdown",
   "metadata": {
    "slideshow": {
     "slide_type": "slide"
    }
   },
   "source": [
    "\n",
    "**Deze pagina heeft de volgende url**"
   ]
  },
  {
   "cell_type": "code",
   "execution_count": null,
   "metadata": {
    "slideshow": {
     "slide_type": "slide"
    },
    "tags": []
   },
   "outputs": [],
   "source": [
    "url = \"https://www.nu.nl/coronavirus/6177311/voor-het-eerst-sinds-half-november-minder-dan-vierhonderd-coronapatienten-op-ic.html\""
   ]
  },
  {
   "cell_type": "markdown",
   "metadata": {},
   "source": [
    "Met de newspaper bibliotheek hebben we de beschikking over een zogenaamd **Article Object**.\n",
    "\n",
    "In drie stappen kunnen we hiermee een krantenartikel binnen halen:\n",
    "1. Eerst maken we een Article object, die we article noemen.\n",
    "2. Dan gaan we de pagina downloaden,\n",
    "3. en tenslotte parsen."
   ]
  },
  {
   "cell_type": "code",
   "execution_count": null,
   "metadata": {},
   "outputs": [],
   "source": [
    "article = Article(url)\n",
    "article.download()\n",
    "article.parse()"
   ]
  },
  {
   "cell_type": "markdown",
   "metadata": {},
   "source": [
    "**Het article object bewaart alle resultaten.**\n",
    "\n",
    "De belangrijkste zijn **title, authors, publish_date en text**. \n",
    "Ik zal ze hieronder tonen."
   ]
  },
  {
   "cell_type": "code",
   "execution_count": null,
   "metadata": {},
   "outputs": [],
   "source": [
    "article.title"
   ]
  },
  {
   "cell_type": "code",
   "execution_count": null,
   "metadata": {},
   "outputs": [],
   "source": [
    "article.authors"
   ]
  },
  {
   "cell_type": "markdown",
   "metadata": {},
   "source": [
    "Authors returns a list. In this case, it only has one item. "
   ]
  },
  {
   "cell_type": "code",
   "execution_count": null,
   "metadata": {},
   "outputs": [],
   "source": [
    "article.publish_date"
   ]
  },
  {
   "cell_type": "markdown",
   "metadata": {},
   "source": [
    "In this case, publish_date returns the publication date and time converted into a Python datetime object. "
   ]
  },
  {
   "cell_type": "code",
   "execution_count": null,
   "metadata": {},
   "outputs": [],
   "source": [
    "print(article.text)"
   ]
  },
  {
   "cell_type": "markdown",
   "metadata": {},
   "source": [
    "**Zoals jullie zien hebben we de volledige tekst van het artikel teruggekregen.**"
   ]
  },
  {
   "cell_type": "code",
   "execution_count": null,
   "metadata": {},
   "outputs": [],
   "source": [
    "inhoud = article.text\n",
    "\n",
    "woordenlijst = []\n",
    "\n",
    "for woord in inhoud.split():\n",
    "    if woord.lower() not in \"nog de dan het in een en er te ten op van het voor is met dat dag\":\n",
    "        woordenlijst.append((woord.lower(),inhoud.count(woord)))\n",
    "    \n",
    "woordenlijst = sorted(list(set(woordenlijst)))\n",
    "    \n",
    "woordenlijst = pd.DataFrame(woordenlijst,columns=[\"WOORD\",\"FREQUENTIE\"])\n",
    "woordenlijst = woordenlijst.sort_values(by=\"FREQUENTIE\", ascending=False)\n",
    "\n",
    "woordenlijst = woordenlijst[[\"WOORD\", \"FREQUENTIE\"]][:20]\n",
    "woordenlijst"
   ]
  },
  {
   "cell_type": "code",
   "execution_count": null,
   "metadata": {},
   "outputs": [],
   "source": [
    "woordenlijst = woordenlijst.groupby(by=\"FREQUENTIE\")\n",
    "woordenlijst.all()"
   ]
  },
  {
   "cell_type": "markdown",
   "metadata": {},
   "source": [
    "Als je **meerdere pagina's** wilt opslaan dan is het makkelijker om dit proces te automatiseren. Daarom maak ik hieronder een functie die als input een URL nodig heeft en vervolgens de meta-data en html code teruggeeft. "
   ]
  },
  {
   "cell_type": "code",
   "execution_count": null,
   "metadata": {},
   "outputs": [],
   "source": [
    "def get_article_info(url):\n",
    "    \"\"\"Download and parse a newspaper url.\"\"\"\n",
    "    article = Article(url)\n",
    "    article.download()\n",
    "    article.parse()\n",
    "\n",
    "    article_details = {\n",
    "        \"title\": article.title,\n",
    "        \"text\": article.text,\n",
    "        \"webUrl\": article.url,\n",
    "        \"authors\": article.authors,\n",
    "        \"html\": article.html,\n",
    "        \"date\": article.publish_date,\n",
    "        \"description\": article.meta_description,\n",
    "    }\n",
    "    return article_details"
   ]
  },
  {
   "cell_type": "markdown",
   "metadata": {},
   "source": [
    "Even Checken of het werkt!"
   ]
  },
  {
   "cell_type": "code",
   "execution_count": null,
   "metadata": {},
   "outputs": [],
   "source": [
    "url = 'https://www.nu.nl/schaatsen/6177313/nuis-verslaat-krol-op-1500-meter-en-is-voor-het-eerst-europees-kampioen.html'\n",
    "a = get_article_info(url)\n",
    "print(a[\"title\"])\n",
    "print(a[\"authors\"])\n",
    "print(a[\"text\"])\n"
   ]
  },
  {
   "cell_type": "markdown",
   "metadata": {},
   "source": [
    "We kunnen dit artikel nu ook in een panda gooien"
   ]
  },
  {
   "cell_type": "code",
   "execution_count": null,
   "metadata": {},
   "outputs": [],
   "source": []
  },
  {
   "cell_type": "code",
   "execution_count": null,
   "metadata": {},
   "outputs": [],
   "source": [
    "df = pd.DataFrame.from_records(a)"
   ]
  },
  {
   "cell_type": "code",
   "execution_count": null,
   "metadata": {},
   "outputs": [],
   "source": [
    "df.head()\n",
    "# df['text'].text()"
   ]
  },
  {
   "cell_type": "code",
   "execution_count": null,
   "metadata": {},
   "outputs": [],
   "source": [
    "df.to_json(\"ap_articles.json\", orient=\"records\")"
   ]
  },
  {
   "cell_type": "markdown",
   "metadata": {},
   "source": [
    "While this might seem like overkill for one article, it scales up quite nicely if you have a longer list of URLs."
   ]
  },
  {
   "cell_type": "code",
   "execution_count": null,
   "metadata": {},
   "outputs": [],
   "source": [
    "urls = [\n",
    "    \"https://www.nu.nl/tech/6177312/ces-trekt-veel-minder-bezoekers-dan-voor-coronapandemie.html\",\n",
    "    \"https://www.nu.nl/schaatsen/6177313/nuis-verslaat-krol-op-1500-meter-en-is-voor-het-eerst-europees-kampioen.html\",\n",
    "    \"https://www.nu.nl/coronavirus/6177311/voor-het-eerst-sinds-half-november-minder-dan-vierhonderd-coronapatienten-op-ic.html\",\n",
    "]"
   ]
  },
  {
   "cell_type": "code",
   "execution_count": null,
   "metadata": {
    "tags": []
   },
   "outputs": [],
   "source": [
    "article_data = []  # Blank list to store results\n",
    "\n",
    "# Loop over each URL\n",
    "for url in urls:\n",
    "    a = get_article_info(url)\n",
    "    article_data.append(a)\n",
    "\n",
    "# convert list of dictionaries to dataframe\n",
    "df = pd.DataFrame.from_records(article_data)\n",
    "df.columns\n",
    "\n",
    "df_beter = df[['title', 'text', 'webUrl', 'description']].copy()\n",
    "\n",
    "df_beter"
   ]
  },
  {
   "cell_type": "code",
   "execution_count": null,
   "metadata": {
    "slideshow": {
     "slide_type": "skip"
    }
   },
   "outputs": [],
   "source": [
    "df[[\"title\", \"webUrl\"]]"
   ]
  },
  {
   "cell_type": "markdown",
   "metadata": {
    "slideshow": {
     "slide_type": "slide"
    }
   },
   "source": [
    "### Wat als we iets anders willen dan de inhoud van een artikel? ###\n",
    "\n"
   ]
  },
  {
   "cell_type": "code",
   "execution_count": null,
   "metadata": {
    "slideshow": {
     "slide_type": "skip"
    }
   },
   "outputs": [],
   "source": [
    "    \n",
    "\n",
    "# alle_links[12].html"
   ]
  },
  {
   "cell_type": "code",
   "execution_count": null,
   "metadata": {},
   "outputs": [],
   "source": [
    "url = 'https://nu.nl/'"
   ]
  },
  {
   "cell_type": "code",
   "execution_count": null,
   "metadata": {},
   "outputs": [],
   "source": [
    "session = HTMLSession()\n",
    "\n",
    "r = session.get(url)"
   ]
  },
  {
   "cell_type": "code",
   "execution_count": null,
   "metadata": {},
   "outputs": [],
   "source": [
    "parsed_html = r.html"
   ]
  },
  {
   "cell_type": "code",
   "execution_count": null,
   "metadata": {},
   "outputs": [],
   "source": [
    "parsed_html"
   ]
  },
  {
   "cell_type": "code",
   "execution_count": null,
   "metadata": {
    "tags": []
   },
   "outputs": [],
   "source": [
    "parsed_html.html"
   ]
  },
  {
   "cell_type": "markdown",
   "metadata": {
    "slideshow": {
     "slide_type": "slide"
    },
    "tags": []
   },
   "source": [
    "### HTML code doorzoeken  ###\n",
    "\n",
    "We zijn op zoek naar de headlines en er bestaat een Tag **headline** dus we gaan alle tags met de naam headlines binnen halen.\n",
    "    \n"
   ]
  },
  {
   "cell_type": "markdown",
   "metadata": {
    "slideshow": {
     "slide_type": "slide"
    },
    "tags": []
   },
   "source": [
    "\n",
    "We gebruiken hier de functie find voor"
   ]
  },
  {
   "cell_type": "code",
   "execution_count": null,
   "metadata": {},
   "outputs": [],
   "source": [
    "for item in parsed_html.find('.headline'):\n",
    "    print(item.text)"
   ]
  },
  {
   "cell_type": "markdown",
   "metadata": {
    "slideshow": {
     "slide_type": "slide"
    },
    "tags": []
   },
   "source": [
    "\n",
    "### Hoe krijg je nu de links van de headlines? ###\n",
    "\n",
    "Daarvoor gebruiken we de functie **absolute_links**"
   ]
  },
  {
   "cell_type": "code",
   "execution_count": null,
   "metadata": {},
   "outputs": [],
   "source": [
    "mijnlinks = []\n",
    "for link in parsed_html.absolute_links:\n",
    "    if 'corona' in link: # and 'covid' in link:\n",
    "        mijnlinks.append(link)\n",
    "\n",
    "df = pd.DataFrame(mijnlinks,columns =[\"Mijnlinks\"])\n"
   ]
  },
  {
   "cell_type": "markdown",
   "metadata": {
    "slideshow": {
     "slide_type": "slide"
    },
    "tags": []
   },
   "source": [
    "\n",
    "#### In df staat nu de Matrix met de links in soort tabelvorm ####\n",
    "\n",
    "Daarvoor gebruiken we de functie **absolute_links**"
   ]
  },
  {
   "cell_type": "code",
   "execution_count": null,
   "metadata": {},
   "outputs": [],
   "source": [
    "df"
   ]
  },
  {
   "cell_type": "markdown",
   "metadata": {
    "slideshow": {
     "slide_type": "slide"
    },
    "tags": []
   },
   "source": [
    "\n",
    "#### Met de functie **absolute_links** maken we echet hyperlinks ####\n",
    "\n"
   ]
  },
  {
   "cell_type": "code",
   "execution_count": null,
   "metadata": {},
   "outputs": [],
   "source": [
    "for link in parsed_html.absolute_links:\n",
    "    if 'corona' in link: # and 'covid' in link:\n",
    "        \n",
    "        print(link)\n",
    "        print()"
   ]
  },
  {
   "cell_type": "code",
   "execution_count": null,
   "metadata": {
    "tags": []
   },
   "outputs": [],
   "source": [
    "widgets.HTML(\"<a href='\" + df_beter[\"webUrl\"][0] + \"'>'\" + df_beter[\"webUrl\"][0] + \"</a>\")"
   ]
  },
  {
   "cell_type": "code",
   "execution_count": null,
   "metadata": {},
   "outputs": [],
   "source": []
  },
  {
   "cell_type": "code",
   "execution_count": null,
   "metadata": {},
   "outputs": [],
   "source": []
  },
  {
   "cell_type": "markdown",
   "metadata": {
    "slideshow": {
     "slide_type": "slide"
    }
   },
   "source": [
    "---\n",
    "\n",
    "\n"
   ]
  },
  {
   "cell_type": "code",
   "execution_count": null,
   "metadata": {
    "slideshow": {
     "slide_type": "skip"
    }
   },
   "outputs": [],
   "source": [
    "session = HTMLSession()\n",
    "url = \"https://www.nu.nl/net-binnen\"\n",
    "r = session.get(url)\n",
    "r.status_code"
   ]
  },
  {
   "cell_type": "markdown",
   "metadata": {
    "slideshow": {
     "slide_type": "slide"
    }
   },
   "source": [
    "Als de status 200 is betekent dat dat het binnenhalen gelukt is.\n",
    "Ik zal de inhoud tonen..."
   ]
  },
  {
   "cell_type": "code",
   "execution_count": null,
   "metadata": {
    "slideshow": {
     "slide_type": "skip"
    }
   },
   "outputs": [],
   "source": [
    "parsed_html = r.html"
   ]
  },
  {
   "cell_type": "code",
   "execution_count": null,
   "metadata": {
    "slideshow": {
     "slide_type": "skip"
    }
   },
   "outputs": [],
   "source": [
    "parsed_html"
   ]
  },
  {
   "cell_type": "code",
   "execution_count": null,
   "metadata": {
    "slideshow": {
     "slide_type": "skip"
    },
    "tags": []
   },
   "outputs": [],
   "source": [
    "parsed_html.html"
   ]
  },
  {
   "cell_type": "markdown",
   "metadata": {
    "slideshow": {
     "slide_type": "slide"
    }
   },
   "source": [
    "Uit deze brij moeten we de HTML tags zoeken die we nodig hebben."
   ]
  },
  {
   "cell_type": "code",
   "execution_count": null,
   "metadata": {
    "jupyter": {
     "source_hidden": true
    },
    "slideshow": {
     "slide_type": "skip"
    },
    "tags": []
   },
   "outputs": [],
   "source": [
    "parsed_html.find(\"div, class\")"
   ]
  },
  {
   "cell_type": "code",
   "execution_count": null,
   "metadata": {
    "slideshow": {
     "slide_type": "skip"
    }
   },
   "outputs": [],
   "source": [
    "ruwe_datakoppen = parsed_html.find('div, class')"
   ]
  },
  {
   "cell_type": "code",
   "execution_count": null,
   "metadata": {
    "jupyter": {
     "source_hidden": true
    },
    "slideshow": {
     "slide_type": "skip"
    },
    "tags": []
   },
   "outputs": [],
   "source": [
    "krantenkoppen = []\n",
    "\n",
    "for kop in ruwe_datakoppen:\n",
    "    kop = kop.find('.title')\n",
    "    if len(kop) > 0:\n",
    "        for kopje in kop:\n",
    "            krantenkoppen.append(kopje.text)\n",
    "    else:\n",
    "        continue\n",
    "        "
   ]
  },
  {
   "cell_type": "code",
   "execution_count": null,
   "metadata": {
    "jupyter": {
     "source_hidden": true
    },
    "slideshow": {
     "slide_type": "skip"
    },
    "tags": []
   },
   "outputs": [],
   "source": [
    "koppen = \"\"\n",
    "\n",
    "if len(krantenkoppen) > 0:\n",
    "    krantenkoppen = set(krantenkoppen)\n",
    "    for kop in krantenkoppen:\n",
    "        koppen += \"<li>\" + kop + \"</li>\"    \n",
    "\n",
    "\n",
    "\n",
    "\n",
    "widgets.HTML(\n",
    "    \n",
    "    value = koppen,\n",
    "    # placeholder='Some HTML',\n",
    "    # description='Some HTML',\n",
    ")\n"
   ]
  },
  {
   "cell_type": "code",
   "execution_count": null,
   "metadata": {
    "slideshow": {
     "slide_type": "skip"
    }
   },
   "outputs": [],
   "source": [
    "    \n",
    "\n",
    "# alle_links[12].html"
   ]
  },
  {
   "cell_type": "markdown",
   "metadata": {},
   "source": [
    "# Bestaande tabellen gebruiken #"
   ]
  },
  {
   "cell_type": "markdown",
   "metadata": {},
   "source": [
    "Als voorbeeld nemen we de site van de **MBORAAD**\n",
    "\n",
    "\n",
    "Image.from_file(\"images/mboraad.png\")"
   ]
  },
  {
   "cell_type": "code",
   "execution_count": null,
   "metadata": {},
   "outputs": [],
   "source": [
    "\n",
    "Image.from_file(\"images/mboraad.png\")"
   ]
  },
  {
   "cell_type": "markdown",
   "metadata": {},
   "source": [
    "## https://www.mboraad.nl/het-mbo/feiten-en-cijfers/studenten-het-mbo ##"
   ]
  },
  {
   "cell_type": "code",
   "execution_count": null,
   "metadata": {},
   "outputs": [],
   "source": [
    "\n",
    "mboraad_url = 'https://www.mboraad.nl/het-mbo/feiten-en-cijfers/studenten-het-mbo'\n",
    "\n",
    "mboraad2_url = 'https://www.mboraad.nl/het-mbo/feiten-en-cijfers/aansluiting-op-de-arbeidsmarkt'\n",
    "cbs_url = 'https://opendata.cbs.nl/statline/#/CBS/nl/dataset/83851NED/table?ts=1641657271358'\n",
    "\n",
    "pd.read_html(mboraad_url)"
   ]
  },
  {
   "cell_type": "markdown",
   "metadata": {},
   "source": [
    "Bronnen van internet"
   ]
  },
  {
   "cell_type": "code",
   "execution_count": null,
   "metadata": {},
   "outputs": [],
   "source": [
    "html_table_list = pd.read_html(mboraad_url)\n",
    "html_table_list"
   ]
  },
  {
   "cell_type": "code",
   "execution_count": null,
   "metadata": {},
   "outputs": [],
   "source": [
    "tabel1 = html_table_list[0]\n",
    "# tabel2 = html_table_list[1]\n",
    "type(tabel1)\n",
    "tabel1.values"
   ]
  },
  {
   "cell_type": "code",
   "execution_count": null,
   "metadata": {},
   "outputs": [],
   "source": [
    "# tabel2.values"
   ]
  },
  {
   "cell_type": "code",
   "execution_count": null,
   "metadata": {},
   "outputs": [],
   "source": [
    "\n"
   ]
  },
  {
   "cell_type": "markdown",
   "metadata": {},
   "source": [
    "## https://www.mboraad.nl/het-mbo/feiten-en-cijfers/aansluiting-op-de-arbeidsmarkt ## "
   ]
  },
  {
   "cell_type": "markdown",
   "metadata": {},
   "source": [
    "### *TABEL: Aansluiting van opleidingen met huidige functie is voldoende/goed (%)* ###\n",
    "---"
   ]
  },
  {
   "cell_type": "code",
   "execution_count": null,
   "metadata": {},
   "outputs": [],
   "source": [
    "html_table_list = pd.read_html(mboraad2_url)\n",
    "html_table_list[0]"
   ]
  },
  {
   "cell_type": "markdown",
   "metadata": {},
   "source": [
    "### *TABEL Werkloosheid %* ###\n",
    "---\n",
    "\n"
   ]
  },
  {
   "cell_type": "code",
   "execution_count": null,
   "metadata": {},
   "outputs": [],
   "source": [
    "html_table_list[1]"
   ]
  },
  {
   "cell_type": "code",
   "execution_count": null,
   "metadata": {},
   "outputs": [],
   "source": [
    "tabel1 = html_table_list[0]\n",
    "tabel2 = html_table_list[1]\n",
    "type(tabel1)\n",
    "tabel1.values"
   ]
  },
  {
   "cell_type": "code",
   "execution_count": null,
   "metadata": {},
   "outputs": [],
   "source": [
    "tabel2.values"
   ]
  },
  {
   "cell_type": "code",
   "execution_count": null,
   "metadata": {},
   "outputs": [],
   "source": [
    "grafiekje = pd.DataFrame(tabel1.values, tabel2.values)\n",
    "\n",
    "grafiekje[:2].plot()"
   ]
  },
  {
   "cell_type": "markdown",
   "metadata": {},
   "source": [
    "## BESTANDEN VAN DE DUO  ##"
   ]
  },
  {
   "cell_type": "code",
   "execution_count": null,
   "metadata": {},
   "outputs": [],
   "source": [
    "df = pd.read_csv('https://duo.nl/open_onderwijsdata/images/01-studenten-per-instelling-bestuur-plaats-gemeente-provincie-type-mbo-2016-2020.csv',sep=';',encoding=\"latin\")\n",
    "df.head()\n"
   ]
  },
  {
   "cell_type": "markdown",
   "metadata": {},
   "source": [
    "Bronnen van internet"
   ]
  },
  {
   "cell_type": "code",
   "execution_count": null,
   "metadata": {},
   "outputs": [],
   "source": [
    "x = list(df[\"INSTELLINGSNAAM\"])[:5]\n",
    "x"
   ]
  },
  {
   "cell_type": "code",
   "execution_count": null,
   "metadata": {},
   "outputs": [],
   "source": [
    "df_instelling = df[df[\"INSTELLINGSNAAM\"]==\"ROC Drenthe College\"].copy()\n",
    "df_instelling.head()"
   ]
  },
  {
   "cell_type": "code",
   "execution_count": null,
   "metadata": {},
   "outputs": [],
   "source": [
    "df_instelling[[\"PEILJAAR\", \"BBL    \"]].plot.bar(x=\"PEILJAAR\",y=\"BBL    \")\n",
    "# df_instelling.columns"
   ]
  },
  {
   "cell_type": "code",
   "execution_count": null,
   "metadata": {},
   "outputs": [],
   "source": [
    "df_grootste = df[df[\"TOTAAL\"] == df[\"TOTAAL\"].max()].copy()\n",
    "df_grootste.head()"
   ]
  },
  {
   "cell_type": "code",
   "execution_count": null,
   "metadata": {},
   "outputs": [],
   "source": [
    "import numpy as np\n",
    "import bqplot.pyplot as plt\n",
    "\n",
    "dates = df_instelling[\"PEILJAAR\"]\n",
    "\n"
   ]
  },
  {
   "cell_type": "code",
   "execution_count": null,
   "metadata": {},
   "outputs": [],
   "source": [
    "\n",
    "size = len(dates)\n",
    "\n",
    "totaal = df_instelling[\"TOTAAL\"] \n",
    "\n",
    "titel = df_instelling[\"INSTELLINGSNAAM\"][0] + ' Aantal Studenten'"
   ]
  },
  {
   "cell_type": "code",
   "execution_count": null,
   "metadata": {},
   "outputs": [],
   "source": [
    "fig = plt.figure(title=titel, background_style={'fill': 'lightblue'},\n",
    "                 title_style={'font-size': '20px','fill': 'DarkOrange'})\n",
    "axes_options = {'x': {'label': 'Cohort', 'tick_format': 'i'},\n",
    "                'y': {'label': 'Aantal Studenten', 'tick_format': '0.0f'}}\n",
    "plt.plot(dates, totaal, 'b', axes_options=axes_options) # third argument is the marker string\n",
    "fig"
   ]
  },
  {
   "cell_type": "code",
   "execution_count": null,
   "metadata": {},
   "outputs": [],
   "source": [
    "y = df[\"TOTAAL\"] \n",
    "x = list(df[\"INSTELLINGSNAAM\"][:5])\n",
    "\n",
    "# 1. Create the figure object\n",
    "fig = plt.figure(title='Aantal Studenten per instelling')\n",
    "\n",
    "# 2. Customize the axes options\n",
    "axes_opts = {'x': {'label': 'INSTELLING', 'grid_lines': 'none'},\n",
    "             'y': {'label': 'AANTAL STUDENTEN', 'tick_format': 't'}}\n",
    "\n",
    "# 3. Create a Bars mark by calling plt.bar function\n",
    "bar = plt.bar(x=x, y=y, padding=.1, axes_options=axes_opts)\n",
    "\n",
    "# 4. directly display the figure object created in step 1 (note that the toolbar no longer shows up)\n",
    "fig"
   ]
  },
  {
   "cell_type": "code",
   "execution_count": null,
   "metadata": {},
   "outputs": [],
   "source": [
    "y = df[\"BBL    \"] / df[\"TOTAAL\"] *100\n",
    "\n",
    "# y = dfdf[\"BBL    \"]]\n",
    "\n",
    "x = list(df[\"INSTELLINGSNAAM\"][35:43])\n",
    "\n",
    "# 1. Create the figure object\n",
    "fig = plt.figure(title='Percentage BBL studenten')\n",
    "\n",
    "# 2. Customize the axes options\n",
    "axes_opts = {'x': {'label': 'INSTELLING', 'grid_lines': 'none'},\n",
    "             'y': {'label': 'PERCENTAGE BBL STUDENTEN', 'tick_format': 't' }}\n",
    "\n",
    "# 3. Create a Bars mark by calling plt.bar function\n",
    "bar = plt.bar(x=x, y=y, padding=.1, axes_options=axes_opts)\n",
    "\n",
    "# 4. directly display the figure object created in step 1 (note that the toolbar no longer shows up)\n",
    "fig"
   ]
  },
  {
   "cell_type": "code",
   "execution_count": null,
   "metadata": {},
   "outputs": [],
   "source": [
    "y_data_2 =  df[\"BOLVT  \"]\n",
    "y_data_3 = df[\"BBL    \"]\n",
    "y_data = df[\"TOTAAL\"]\n",
    "\n",
    "plt.figure(title='STUDENTEN LEERWEG')\n",
    "\n",
    "\n",
    "plt.scatter(y_data_2, y_data_3, color=y_data, stroke='black')\n",
    "plt.show()\n",
    "\n"
   ]
  },
  {
   "cell_type": "code",
   "execution_count": null,
   "metadata": {},
   "outputs": [],
   "source": [
    "import numpy as np\n",
    "\n",
    "df_instelling = df[df[\"INSTELLINGSNAAM\"]==\"ROC Drenthe College\"].copy()\n",
    "df_instelling.head()\n",
    "x_data = df_instelling[\"INSTELLINGSNAAM\"]\n",
    "# np.cumsum(np.random.randn(size) * 100.0)\n",
    "y_data = np.absolute(df[\"BBL    \"]/ df[\"TOTAAL\"]) * 100\n",
    "\n",
    "plt.figure()\n",
    "plt.hist(y_data, colors=['OrangeRed'])\n",
    "plt.show()"
   ]
  },
  {
   "cell_type": "code",
   "execution_count": null,
   "metadata": {},
   "outputs": [],
   "source": [
    "plt.figure()\n",
    "d = abs(df[\"TOTAAL\"][:5])\n",
    "plt.pie(d, labels = [\"2016\",\"2017\",\"2018\",\"2019\",\"2020\"], )\n",
    "plt.show()\n"
   ]
  },
  {
   "cell_type": "code",
   "execution_count": null,
   "metadata": {},
   "outputs": [],
   "source": [
    "plt.figure()\n",
    "plt.geo(map_data='WorldMap')\n",
    "plt.show()"
   ]
  },
  {
   "cell_type": "code",
   "execution_count": null,
   "metadata": {},
   "outputs": [],
   "source": [
    "df = pd.read_csv('https://duo.nl/open_onderwijsdata/images/02-combinatie-crebo-en-beroep-2020-2021.csv',sep=';',encoding=\"latin\")\n",
    "df.head()\n"
   ]
  },
  {
   "cell_type": "code",
   "execution_count": null,
   "metadata": {},
   "outputs": [],
   "source": [
    "df.sample(7)"
   ]
  },
  {
   "cell_type": "code",
   "execution_count": null,
   "metadata": {},
   "outputs": [],
   "source": [
    "df = pd.read_excel(r'https://duo.nl/open_onderwijsdata/images/03-erkende-niet-bekostigde-opleidingen.xlsx')\n",
    "df.head()\n",
    "\n",
    "\n",
    "# https://duo.nl/open_onderwijsdata/images/2021-kwaliteitsafspraken-per-instelling.xlsx"
   ]
  },
  {
   "cell_type": "code",
   "execution_count": null,
   "metadata": {},
   "outputs": [],
   "source": [
    "df_albeda = df[df[\"SCHOOLNAAM\"] == \"Stichting Albeda\"].copy()\n",
    "df_albeda[[\"SCHOOLNAAM\",\"NAAM OPLEIDING\", \"CREBONUMMER\"]]"
   ]
  },
  {
   "cell_type": "code",
   "execution_count": null,
   "metadata": {},
   "outputs": [],
   "source": [
    "opleidingen = df_albeda[\"NAAM OPLEIDING\"]\n",
    "len(opleidingen)"
   ]
  }
 ],
 "metadata": {
  "kernelspec": {
   "display_name": "Python 3 (ipykernel)",
   "language": "python",
   "name": "python3"
  },
  "language_info": {
   "codemirror_mode": {
    "name": "ipython",
    "version": 3
   },
   "file_extension": ".py",
   "mimetype": "text/x-python",
   "name": "python",
   "nbconvert_exporter": "python",
   "pygments_lexer": "ipython3",
   "version": "3.10.1"
  },
  "toc": {
   "base_numbering": 1,
   "nav_menu": {},
   "number_sections": true,
   "sideBar": true,
   "skip_h1_title": false,
   "title_cell": "Table of Contents",
   "title_sidebar": "Contents",
   "toc_cell": true,
   "toc_position": {},
   "toc_section_display": true,
   "toc_window_display": false
  },
  "toc-autonumbering": false,
  "toc-showmarkdowntxt": false,
  "toc-showtags": false,
  "widgets": {
   "application/vnd.jupyter.widget-state+json": {
    "state": {},
    "version_major": 2,
    "version_minor": 0
   }
  }
 },
 "nbformat": 4,
 "nbformat_minor": 4
}
